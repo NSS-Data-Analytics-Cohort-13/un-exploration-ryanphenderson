{
 "cells": [
  {
   "cell_type": "markdown",
   "id": "0bf1692e-cf87-494f-9208-01d924d5674c",
   "metadata": {},
   "source": [
    "## #3. Import the required packages with their customary aliases as follows:"
   ]
  },
  {
   "cell_type": "code",
   "execution_count": 2,
   "id": "e8fc962b-5868-446b-be45-2746c651961e",
   "metadata": {},
   "outputs": [],
   "source": [
    "import pandas as pd\n",
    "import numpy as np\n",
    "import matplotlib.pyplot as plt\n",
    "import seaborn as sns"
   ]
  },
  {
   "cell_type": "markdown",
   "id": "c70dd35b-0a9e-403d-a597-4e4fb4fd959f",
   "metadata": {},
   "source": [
    "## #4. Using the pandas read_csv() method, read the GDP dataset into your notebook as a DataFrame called gdp_df. Take a look at the first few and last few rows to familiarize yourself with what is contained in this dataset."
   ]
  },
  {
   "cell_type": "code",
   "execution_count": 4,
   "id": "c1ce61f5-bda4-411c-aad5-a225dce8ef69",
   "metadata": {},
   "outputs": [
    {
     "name": "stdout",
     "output_type": "stream",
     "text": [
      "     Country or Area  Year        Value  Value Footnotes\n",
      "0        Afghanistan  2021  1517.016266              NaN\n",
      "1        Afghanistan  2020  1968.341002              NaN\n",
      "2        Afghanistan  2019  2079.921861              NaN\n",
      "3        Afghanistan  2018  2060.698973              NaN\n",
      "4        Afghanistan  2017  2096.093111              NaN\n",
      "...              ...   ...          ...              ...\n",
      "7657        Zimbabwe  1994  2670.106615              NaN\n",
      "7658        Zimbabwe  1993  2458.783255              NaN\n",
      "7659        Zimbabwe  1992  2468.278257              NaN\n",
      "7660        Zimbabwe  1991  2781.787843              NaN\n",
      "7661        Zimbabwe  1990  2704.757299              NaN\n",
      "\n",
      "[7662 rows x 4 columns]\n"
     ]
    }
   ],
   "source": [
    "gdp_df = pd.read_csv('../data/gdp_percapita.csv')\n",
    "print(gdp_df)"
   ]
  },
  {
   "cell_type": "markdown",
   "id": "d2526ce1-a148-493b-b65f-fc0ab30a4386",
   "metadata": {},
   "source": [
    "## #5. How many rows and columns are in gdp_df? What are the data types of each column?"
   ]
  },
  {
   "cell_type": "code",
   "execution_count": 6,
   "id": "2f5441cf-e27e-4a9e-a8bd-ec103287b351",
   "metadata": {},
   "outputs": [
    {
     "name": "stdout",
     "output_type": "stream",
     "text": [
      "(7662, 4)\n",
      "<class 'pandas.core.frame.DataFrame'>\n",
      "RangeIndex: 7662 entries, 0 to 7661\n",
      "Data columns (total 4 columns):\n",
      " #   Column           Non-Null Count  Dtype  \n",
      "---  ------           --------------  -----  \n",
      " 0   Country or Area  7662 non-null   object \n",
      " 1   Year             7662 non-null   int64  \n",
      " 2   Value            7662 non-null   float64\n",
      " 3   Value Footnotes  0 non-null      float64\n",
      "dtypes: float64(2), int64(1), object(1)\n",
      "memory usage: 239.6+ KB\n"
     ]
    }
   ],
   "source": [
    "print(gdp_df.shape)\n",
    "gdp_df.info()"
   ]
  },
  {
   "cell_type": "markdown",
   "id": "c05f36e8-5fab-4ba2-9eb6-c7a2cfe40a6f",
   "metadata": {},
   "source": [
    "## #6. Drop the `Value Footnotes` column and rename the remaining three to 'Country', 'Year', and 'GDP_Per_Capita'."
   ]
  },
  {
   "cell_type": "code",
   "execution_count": 8,
   "id": "6bb27a8a-3761-41d3-9e97-ff3e1c042e01",
   "metadata": {},
   "outputs": [],
   "source": [
    "gdp_df.rename(columns={'Country or Area' : 'Country', 'Value': 'GDP_Per_Capita'}, inplace=True)"
   ]
  },
  {
   "cell_type": "code",
   "execution_count": 9,
   "id": "39dd6e9e-60e5-42d8-b5aa-ff0a86f31fb7",
   "metadata": {},
   "outputs": [
    {
     "name": "stdout",
     "output_type": "stream",
     "text": [
      "          Country  Year  GDP_Per_Capita\n",
      "0     Afghanistan  2021     1517.016266\n",
      "1     Afghanistan  2020     1968.341002\n",
      "2     Afghanistan  2019     2079.921861\n",
      "3     Afghanistan  2018     2060.698973\n",
      "4     Afghanistan  2017     2096.093111\n",
      "...           ...   ...             ...\n",
      "7657     Zimbabwe  1994     2670.106615\n",
      "7658     Zimbabwe  1993     2458.783255\n",
      "7659     Zimbabwe  1992     2468.278257\n",
      "7660     Zimbabwe  1991     2781.787843\n",
      "7661     Zimbabwe  1990     2704.757299\n",
      "\n",
      "[7662 rows x 3 columns]\n"
     ]
    }
   ],
   "source": [
    "gdp_df.drop(columns=['Value Footnotes'], inplace=True)\n",
    "print(gdp_df)"
   ]
  },
  {
   "cell_type": "code",
   "execution_count": 148,
   "id": "9e310649-1059-4b78-bf29-8648247d68a9",
   "metadata": {},
   "outputs": [
    {
     "data": {
      "text/html": [
       "<div>\n",
       "<style scoped>\n",
       "    .dataframe tbody tr th:only-of-type {\n",
       "        vertical-align: middle;\n",
       "    }\n",
       "\n",
       "    .dataframe tbody tr th {\n",
       "        vertical-align: top;\n",
       "    }\n",
       "\n",
       "    .dataframe thead th {\n",
       "        text-align: right;\n",
       "    }\n",
       "</style>\n",
       "<table border=\"1\" class=\"dataframe\">\n",
       "  <thead>\n",
       "    <tr style=\"text-align: right;\">\n",
       "      <th></th>\n",
       "      <th>Country</th>\n",
       "      <th>Year</th>\n",
       "      <th>GDP_Per_Capita</th>\n",
       "    </tr>\n",
       "  </thead>\n",
       "  <tbody>\n",
       "    <tr>\n",
       "      <th>5800</th>\n",
       "      <td>Russian Federation</td>\n",
       "      <td>2022</td>\n",
       "      <td>27584.171875</td>\n",
       "    </tr>\n",
       "    <tr>\n",
       "      <th>5801</th>\n",
       "      <td>Russian Federation</td>\n",
       "      <td>2021</td>\n",
       "      <td>28193.837891</td>\n",
       "    </tr>\n",
       "    <tr>\n",
       "      <th>5802</th>\n",
       "      <td>Russian Federation</td>\n",
       "      <td>2020</td>\n",
       "      <td>26586.554688</td>\n",
       "    </tr>\n",
       "    <tr>\n",
       "      <th>5803</th>\n",
       "      <td>Russian Federation</td>\n",
       "      <td>2019</td>\n",
       "      <td>27254.574219</td>\n",
       "    </tr>\n",
       "    <tr>\n",
       "      <th>5804</th>\n",
       "      <td>Russian Federation</td>\n",
       "      <td>2018</td>\n",
       "      <td>26656.410156</td>\n",
       "    </tr>\n",
       "    <tr>\n",
       "      <th>5805</th>\n",
       "      <td>Russian Federation</td>\n",
       "      <td>2017</td>\n",
       "      <td>25926.443359</td>\n",
       "    </tr>\n",
       "    <tr>\n",
       "      <th>5806</th>\n",
       "      <td>Russian Federation</td>\n",
       "      <td>2016</td>\n",
       "      <td>25490.708984</td>\n",
       "    </tr>\n",
       "    <tr>\n",
       "      <th>5807</th>\n",
       "      <td>Russian Federation</td>\n",
       "      <td>2015</td>\n",
       "      <td>25488.095703</td>\n",
       "    </tr>\n",
       "    <tr>\n",
       "      <th>5808</th>\n",
       "      <td>Russian Federation</td>\n",
       "      <td>2014</td>\n",
       "      <td>26057.156250</td>\n",
       "    </tr>\n",
       "    <tr>\n",
       "      <th>5809</th>\n",
       "      <td>Russian Federation</td>\n",
       "      <td>2013</td>\n",
       "      <td>26332.396484</td>\n",
       "    </tr>\n",
       "    <tr>\n",
       "      <th>5810</th>\n",
       "      <td>Russian Federation</td>\n",
       "      <td>2012</td>\n",
       "      <td>25933.292969</td>\n",
       "    </tr>\n",
       "    <tr>\n",
       "      <th>5811</th>\n",
       "      <td>Russian Federation</td>\n",
       "      <td>2011</td>\n",
       "      <td>24972.078125</td>\n",
       "    </tr>\n",
       "    <tr>\n",
       "      <th>5812</th>\n",
       "      <td>Russian Federation</td>\n",
       "      <td>2010</td>\n",
       "      <td>23961.220703</td>\n",
       "    </tr>\n",
       "    <tr>\n",
       "      <th>5813</th>\n",
       "      <td>Russian Federation</td>\n",
       "      <td>2009</td>\n",
       "      <td>22939.693359</td>\n",
       "    </tr>\n",
       "    <tr>\n",
       "      <th>5814</th>\n",
       "      <td>Russian Federation</td>\n",
       "      <td>2008</td>\n",
       "      <td>24887.853516</td>\n",
       "    </tr>\n",
       "    <tr>\n",
       "      <th>5815</th>\n",
       "      <td>Russian Federation</td>\n",
       "      <td>2007</td>\n",
       "      <td>23647.265625</td>\n",
       "    </tr>\n",
       "    <tr>\n",
       "      <th>5816</th>\n",
       "      <td>Russian Federation</td>\n",
       "      <td>2006</td>\n",
       "      <td>21757.464844</td>\n",
       "    </tr>\n",
       "    <tr>\n",
       "      <th>5817</th>\n",
       "      <td>Russian Federation</td>\n",
       "      <td>2005</td>\n",
       "      <td>20042.814453</td>\n",
       "    </tr>\n",
       "    <tr>\n",
       "      <th>5818</th>\n",
       "      <td>Russian Federation</td>\n",
       "      <td>2004</td>\n",
       "      <td>18765.519531</td>\n",
       "    </tr>\n",
       "    <tr>\n",
       "      <th>5819</th>\n",
       "      <td>Russian Federation</td>\n",
       "      <td>2003</td>\n",
       "      <td>17434.808594</td>\n",
       "    </tr>\n",
       "    <tr>\n",
       "      <th>5820</th>\n",
       "      <td>Russian Federation</td>\n",
       "      <td>2002</td>\n",
       "      <td>16175.097656</td>\n",
       "    </tr>\n",
       "    <tr>\n",
       "      <th>5821</th>\n",
       "      <td>Russian Federation</td>\n",
       "      <td>2001</td>\n",
       "      <td>15378.089844</td>\n",
       "    </tr>\n",
       "    <tr>\n",
       "      <th>5822</th>\n",
       "      <td>Russian Federation</td>\n",
       "      <td>2000</td>\n",
       "      <td>14569.936523</td>\n",
       "    </tr>\n",
       "    <tr>\n",
       "      <th>5823</th>\n",
       "      <td>Russian Federation</td>\n",
       "      <td>1999</td>\n",
       "      <td>13189.793945</td>\n",
       "    </tr>\n",
       "    <tr>\n",
       "      <th>5824</th>\n",
       "      <td>Russian Federation</td>\n",
       "      <td>1998</td>\n",
       "      <td>12358.152344</td>\n",
       "    </tr>\n",
       "    <tr>\n",
       "      <th>5825</th>\n",
       "      <td>Russian Federation</td>\n",
       "      <td>1997</td>\n",
       "      <td>13028.208008</td>\n",
       "    </tr>\n",
       "    <tr>\n",
       "      <th>5826</th>\n",
       "      <td>Russian Federation</td>\n",
       "      <td>1996</td>\n",
       "      <td>12827.116211</td>\n",
       "    </tr>\n",
       "    <tr>\n",
       "      <th>5827</th>\n",
       "      <td>Russian Federation</td>\n",
       "      <td>1995</td>\n",
       "      <td>13308.205078</td>\n",
       "    </tr>\n",
       "    <tr>\n",
       "      <th>5828</th>\n",
       "      <td>Russian Federation</td>\n",
       "      <td>1994</td>\n",
       "      <td>13880.464844</td>\n",
       "    </tr>\n",
       "    <tr>\n",
       "      <th>5829</th>\n",
       "      <td>Russian Federation</td>\n",
       "      <td>1993</td>\n",
       "      <td>15870.605469</td>\n",
       "    </tr>\n",
       "    <tr>\n",
       "      <th>5830</th>\n",
       "      <td>Russian Federation</td>\n",
       "      <td>1992</td>\n",
       "      <td>17367.640625</td>\n",
       "    </tr>\n",
       "    <tr>\n",
       "      <th>5831</th>\n",
       "      <td>Russian Federation</td>\n",
       "      <td>1991</td>\n",
       "      <td>20340.132812</td>\n",
       "    </tr>\n",
       "    <tr>\n",
       "      <th>5832</th>\n",
       "      <td>Russian Federation</td>\n",
       "      <td>1990</td>\n",
       "      <td>21482.748047</td>\n",
       "    </tr>\n",
       "  </tbody>\n",
       "</table>\n",
       "</div>"
      ],
      "text/plain": [
       "                 Country  Year  GDP_Per_Capita\n",
       "5800  Russian Federation  2022    27584.171875\n",
       "5801  Russian Federation  2021    28193.837891\n",
       "5802  Russian Federation  2020    26586.554688\n",
       "5803  Russian Federation  2019    27254.574219\n",
       "5804  Russian Federation  2018    26656.410156\n",
       "5805  Russian Federation  2017    25926.443359\n",
       "5806  Russian Federation  2016    25490.708984\n",
       "5807  Russian Federation  2015    25488.095703\n",
       "5808  Russian Federation  2014    26057.156250\n",
       "5809  Russian Federation  2013    26332.396484\n",
       "5810  Russian Federation  2012    25933.292969\n",
       "5811  Russian Federation  2011    24972.078125\n",
       "5812  Russian Federation  2010    23961.220703\n",
       "5813  Russian Federation  2009    22939.693359\n",
       "5814  Russian Federation  2008    24887.853516\n",
       "5815  Russian Federation  2007    23647.265625\n",
       "5816  Russian Federation  2006    21757.464844\n",
       "5817  Russian Federation  2005    20042.814453\n",
       "5818  Russian Federation  2004    18765.519531\n",
       "5819  Russian Federation  2003    17434.808594\n",
       "5820  Russian Federation  2002    16175.097656\n",
       "5821  Russian Federation  2001    15378.089844\n",
       "5822  Russian Federation  2000    14569.936523\n",
       "5823  Russian Federation  1999    13189.793945\n",
       "5824  Russian Federation  1998    12358.152344\n",
       "5825  Russian Federation  1997    13028.208008\n",
       "5826  Russian Federation  1996    12827.116211\n",
       "5827  Russian Federation  1995    13308.205078\n",
       "5828  Russian Federation  1994    13880.464844\n",
       "5829  Russian Federation  1993    15870.605469\n",
       "5830  Russian Federation  1992    17367.640625\n",
       "5831  Russian Federation  1991    20340.132812\n",
       "5832  Russian Federation  1990    21482.748047"
      ]
     },
     "execution_count": 148,
     "metadata": {},
     "output_type": "execute_result"
    }
   ],
   "source": [
    "gdp_df.replace(\"Russia\",\"Russian Federation\", inplace = True)\n",
    "gdp_df[gdp_df[\"Country\"]==\"Russian Federation\"]"
   ]
  },
  {
   "cell_type": "markdown",
   "id": "ee05b4af-a13e-4f99-a0ce-a0026b04dc3c",
   "metadata": {},
   "source": [
    "## #7. How many countries have data for all years? Which countries are missing many years of data? Look at the number of observations per year. What do you notice? "
   ]
  },
  {
   "cell_type": "code",
   "execution_count": 11,
   "id": "9e4484bd-f9c2-4d30-8e5f-e466243cca04",
   "metadata": {},
   "outputs": [
    {
     "data": {
      "text/html": [
       "<div>\n",
       "<style scoped>\n",
       "    .dataframe tbody tr th:only-of-type {\n",
       "        vertical-align: middle;\n",
       "    }\n",
       "\n",
       "    .dataframe tbody tr th {\n",
       "        vertical-align: top;\n",
       "    }\n",
       "\n",
       "    .dataframe thead th {\n",
       "        text-align: right;\n",
       "    }\n",
       "</style>\n",
       "<table border=\"1\" class=\"dataframe\">\n",
       "  <thead>\n",
       "    <tr style=\"text-align: right;\">\n",
       "      <th></th>\n",
       "      <th>Year</th>\n",
       "      <th>GDP_Per_Capita</th>\n",
       "    </tr>\n",
       "    <tr>\n",
       "      <th>Country</th>\n",
       "      <th></th>\n",
       "      <th></th>\n",
       "    </tr>\n",
       "  </thead>\n",
       "  <tbody>\n",
       "    <tr>\n",
       "      <th>Tajikistan</th>\n",
       "      <td>1990</td>\n",
       "      <td>3990.869035</td>\n",
       "    </tr>\n",
       "    <tr>\n",
       "      <th>Nepal</th>\n",
       "      <td>1990</td>\n",
       "      <td>1554.602043</td>\n",
       "    </tr>\n",
       "    <tr>\n",
       "      <th>United States</th>\n",
       "      <td>1990</td>\n",
       "      <td>40451.498405</td>\n",
       "    </tr>\n",
       "    <tr>\n",
       "      <th>Morocco</th>\n",
       "      <td>1990</td>\n",
       "      <td>4119.872070</td>\n",
       "    </tr>\n",
       "    <tr>\n",
       "      <th>Mozambique</th>\n",
       "      <td>1990</td>\n",
       "      <td>460.123697</td>\n",
       "    </tr>\n",
       "    <tr>\n",
       "      <th>...</th>\n",
       "      <td>...</td>\n",
       "      <td>...</td>\n",
       "    </tr>\n",
       "    <tr>\n",
       "      <th>Haiti</th>\n",
       "      <td>1990</td>\n",
       "      <td>3612.815105</td>\n",
       "    </tr>\n",
       "    <tr>\n",
       "      <th>Heavily indebted poor countries (HIPC)</th>\n",
       "      <td>1990</td>\n",
       "      <td>1836.120378</td>\n",
       "    </tr>\n",
       "    <tr>\n",
       "      <th>High income</th>\n",
       "      <td>1990</td>\n",
       "      <td>31817.694273</td>\n",
       "    </tr>\n",
       "    <tr>\n",
       "      <th>Honduras</th>\n",
       "      <td>1990</td>\n",
       "      <td>3912.702045</td>\n",
       "    </tr>\n",
       "    <tr>\n",
       "      <th>Zimbabwe</th>\n",
       "      <td>1990</td>\n",
       "      <td>2704.757299</td>\n",
       "    </tr>\n",
       "  </tbody>\n",
       "</table>\n",
       "<p>207 rows × 2 columns</p>\n",
       "</div>"
      ],
      "text/plain": [
       "                                        Year  GDP_Per_Capita\n",
       "Country                                                     \n",
       "Tajikistan                              1990     3990.869035\n",
       "Nepal                                   1990     1554.602043\n",
       "United States                           1990    40451.498405\n",
       "Morocco                                 1990     4119.872070\n",
       "Mozambique                              1990      460.123697\n",
       "...                                      ...             ...\n",
       "Haiti                                   1990     3612.815105\n",
       "Heavily indebted poor countries (HIPC)  1990     1836.120378\n",
       "High income                             1990    31817.694273\n",
       "Honduras                                1990     3912.702045\n",
       "Zimbabwe                                1990     2704.757299\n",
       "\n",
       "[207 rows x 2 columns]"
      ]
     },
     "execution_count": 11,
     "metadata": {},
     "output_type": "execute_result"
    }
   ],
   "source": [
    "# Questions to answer: What is the range of years in the dataset? List countries by count of unique years. List years by count of unique countries.\n",
    "gdp_years = gdp_df.groupby(\"Country\")\n",
    "gdp_last = gdp_years.last()\n",
    "gdp_min = gdp_last.sort_values(by=\"Year\",ascending=False)\n",
    "# All countries' first appearance in the dataset\n",
    "# All countries' whose first appearance was after 1990\n",
    "gdp_min[gdp_min[\"Year\"]==1990]"
   ]
  },
  {
   "cell_type": "code",
   "execution_count": 12,
   "id": "41da1928-a20d-4b4d-9c21-aedf557122a6",
   "metadata": {},
   "outputs": [
    {
     "data": {
      "text/html": [
       "<div>\n",
       "<style scoped>\n",
       "    .dataframe tbody tr th:only-of-type {\n",
       "        vertical-align: middle;\n",
       "    }\n",
       "\n",
       "    .dataframe tbody tr th {\n",
       "        vertical-align: top;\n",
       "    }\n",
       "\n",
       "    .dataframe thead th {\n",
       "        text-align: right;\n",
       "    }\n",
       "</style>\n",
       "<table border=\"1\" class=\"dataframe\">\n",
       "  <thead>\n",
       "    <tr style=\"text-align: right;\">\n",
       "      <th></th>\n",
       "      <th>Country</th>\n",
       "      <th>Count</th>\n",
       "    </tr>\n",
       "  </thead>\n",
       "  <tbody>\n",
       "    <tr>\n",
       "      <th>1</th>\n",
       "      <td>Africa Eastern and Southern</td>\n",
       "      <td>33</td>\n",
       "    </tr>\n",
       "    <tr>\n",
       "      <th>2</th>\n",
       "      <td>Africa Western and Central</td>\n",
       "      <td>33</td>\n",
       "    </tr>\n",
       "    <tr>\n",
       "      <th>3</th>\n",
       "      <td>Albania</td>\n",
       "      <td>33</td>\n",
       "    </tr>\n",
       "    <tr>\n",
       "      <th>4</th>\n",
       "      <td>Algeria</td>\n",
       "      <td>33</td>\n",
       "    </tr>\n",
       "    <tr>\n",
       "      <th>5</th>\n",
       "      <td>Angola</td>\n",
       "      <td>33</td>\n",
       "    </tr>\n",
       "    <tr>\n",
       "      <th>...</th>\n",
       "      <td>...</td>\n",
       "      <td>...</td>\n",
       "    </tr>\n",
       "    <tr>\n",
       "      <th>236</th>\n",
       "      <td>Vanuatu</td>\n",
       "      <td>33</td>\n",
       "    </tr>\n",
       "    <tr>\n",
       "      <th>237</th>\n",
       "      <td>Viet Nam</td>\n",
       "      <td>33</td>\n",
       "    </tr>\n",
       "    <tr>\n",
       "      <th>239</th>\n",
       "      <td>World</td>\n",
       "      <td>33</td>\n",
       "    </tr>\n",
       "    <tr>\n",
       "      <th>240</th>\n",
       "      <td>Zambia</td>\n",
       "      <td>33</td>\n",
       "    </tr>\n",
       "    <tr>\n",
       "      <th>241</th>\n",
       "      <td>Zimbabwe</td>\n",
       "      <td>33</td>\n",
       "    </tr>\n",
       "  </tbody>\n",
       "</table>\n",
       "<p>202 rows × 2 columns</p>\n",
       "</div>"
      ],
      "text/plain": [
       "                         Country  Count\n",
       "1    Africa Eastern and Southern     33\n",
       "2     Africa Western and Central     33\n",
       "3                        Albania     33\n",
       "4                        Algeria     33\n",
       "5                         Angola     33\n",
       "..                           ...    ...\n",
       "236                      Vanuatu     33\n",
       "237                     Viet Nam     33\n",
       "239                        World     33\n",
       "240                       Zambia     33\n",
       "241                     Zimbabwe     33\n",
       "\n",
       "[202 rows x 2 columns]"
      ]
     },
     "execution_count": 12,
     "metadata": {},
     "output_type": "execute_result"
    }
   ],
   "source": [
    "gdp_count = gdp_df.groupby(\"Country\")[\"Year\"].count().reset_index().rename(columns={\"Year\":\"Count\"})\n",
    "gdp_count[gdp_count[\"Count\"]==33]"
   ]
  },
  {
   "cell_type": "code",
   "execution_count": 13,
   "id": "636ff2f0-bc3d-4d60-a404-25bc42a0954d",
   "metadata": {},
   "outputs": [
    {
     "data": {
      "text/html": [
       "<div>\n",
       "<style scoped>\n",
       "    .dataframe tbody tr th:only-of-type {\n",
       "        vertical-align: middle;\n",
       "    }\n",
       "\n",
       "    .dataframe tbody tr th {\n",
       "        vertical-align: top;\n",
       "    }\n",
       "\n",
       "    .dataframe thead th {\n",
       "        text-align: right;\n",
       "    }\n",
       "</style>\n",
       "<table border=\"1\" class=\"dataframe\">\n",
       "  <thead>\n",
       "    <tr style=\"text-align: right;\">\n",
       "      <th></th>\n",
       "      <th>Country</th>\n",
       "      <th>Count</th>\n",
       "    </tr>\n",
       "  </thead>\n",
       "  <tbody>\n",
       "    <tr>\n",
       "      <th>0</th>\n",
       "      <td>Afghanistan</td>\n",
       "      <td>20</td>\n",
       "    </tr>\n",
       "    <tr>\n",
       "      <th>1</th>\n",
       "      <td>Aruba</td>\n",
       "      <td>32</td>\n",
       "    </tr>\n",
       "    <tr>\n",
       "      <th>2</th>\n",
       "      <td>Bhutan</td>\n",
       "      <td>32</td>\n",
       "    </tr>\n",
       "    <tr>\n",
       "      <th>3</th>\n",
       "      <td>Bosnia and Herzegovina</td>\n",
       "      <td>29</td>\n",
       "    </tr>\n",
       "    <tr>\n",
       "      <th>4</th>\n",
       "      <td>Cambodia</td>\n",
       "      <td>30</td>\n",
       "    </tr>\n",
       "    <tr>\n",
       "      <th>5</th>\n",
       "      <td>Cayman Islands</td>\n",
       "      <td>16</td>\n",
       "    </tr>\n",
       "    <tr>\n",
       "      <th>6</th>\n",
       "      <td>Croatia</td>\n",
       "      <td>28</td>\n",
       "    </tr>\n",
       "    <tr>\n",
       "      <th>7</th>\n",
       "      <td>CuraÃ§ao</td>\n",
       "      <td>22</td>\n",
       "    </tr>\n",
       "    <tr>\n",
       "      <th>8</th>\n",
       "      <td>Djibouti</td>\n",
       "      <td>10</td>\n",
       "    </tr>\n",
       "    <tr>\n",
       "      <th>9</th>\n",
       "      <td>Estonia</td>\n",
       "      <td>28</td>\n",
       "    </tr>\n",
       "    <tr>\n",
       "      <th>10</th>\n",
       "      <td>Hungary</td>\n",
       "      <td>32</td>\n",
       "    </tr>\n",
       "    <tr>\n",
       "      <th>11</th>\n",
       "      <td>Iceland</td>\n",
       "      <td>28</td>\n",
       "    </tr>\n",
       "    <tr>\n",
       "      <th>12</th>\n",
       "      <td>Israel</td>\n",
       "      <td>28</td>\n",
       "    </tr>\n",
       "    <tr>\n",
       "      <th>13</th>\n",
       "      <td>Kosovo</td>\n",
       "      <td>15</td>\n",
       "    </tr>\n",
       "    <tr>\n",
       "      <th>14</th>\n",
       "      <td>Kuwait</td>\n",
       "      <td>31</td>\n",
       "    </tr>\n",
       "    <tr>\n",
       "      <th>15</th>\n",
       "      <td>Latvia</td>\n",
       "      <td>28</td>\n",
       "    </tr>\n",
       "    <tr>\n",
       "      <th>16</th>\n",
       "      <td>Lebanon</td>\n",
       "      <td>32</td>\n",
       "    </tr>\n",
       "    <tr>\n",
       "      <th>17</th>\n",
       "      <td>Liberia</td>\n",
       "      <td>23</td>\n",
       "    </tr>\n",
       "    <tr>\n",
       "      <th>18</th>\n",
       "      <td>Libya</td>\n",
       "      <td>24</td>\n",
       "    </tr>\n",
       "    <tr>\n",
       "      <th>19</th>\n",
       "      <td>Lithuania</td>\n",
       "      <td>28</td>\n",
       "    </tr>\n",
       "    <tr>\n",
       "      <th>20</th>\n",
       "      <td>Maldives</td>\n",
       "      <td>28</td>\n",
       "    </tr>\n",
       "    <tr>\n",
       "      <th>21</th>\n",
       "      <td>Moldova</td>\n",
       "      <td>28</td>\n",
       "    </tr>\n",
       "    <tr>\n",
       "      <th>22</th>\n",
       "      <td>Montenegro</td>\n",
       "      <td>26</td>\n",
       "    </tr>\n",
       "    <tr>\n",
       "      <th>23</th>\n",
       "      <td>Nauru</td>\n",
       "      <td>19</td>\n",
       "    </tr>\n",
       "    <tr>\n",
       "      <th>24</th>\n",
       "      <td>Other small states</td>\n",
       "      <td>23</td>\n",
       "    </tr>\n",
       "    <tr>\n",
       "      <th>25</th>\n",
       "      <td>Palau</td>\n",
       "      <td>22</td>\n",
       "    </tr>\n",
       "    <tr>\n",
       "      <th>26</th>\n",
       "      <td>Qatar</td>\n",
       "      <td>23</td>\n",
       "    </tr>\n",
       "    <tr>\n",
       "      <th>27</th>\n",
       "      <td>San Marino</td>\n",
       "      <td>25</td>\n",
       "    </tr>\n",
       "    <tr>\n",
       "      <th>28</th>\n",
       "      <td>Serbia</td>\n",
       "      <td>28</td>\n",
       "    </tr>\n",
       "    <tr>\n",
       "      <th>29</th>\n",
       "      <td>Sint Maarten (Dutch part)</td>\n",
       "      <td>14</td>\n",
       "    </tr>\n",
       "    <tr>\n",
       "      <th>30</th>\n",
       "      <td>Slovak Republic</td>\n",
       "      <td>31</td>\n",
       "    </tr>\n",
       "    <tr>\n",
       "      <th>31</th>\n",
       "      <td>Slovenia</td>\n",
       "      <td>28</td>\n",
       "    </tr>\n",
       "    <tr>\n",
       "      <th>32</th>\n",
       "      <td>Small states</td>\n",
       "      <td>26</td>\n",
       "    </tr>\n",
       "    <tr>\n",
       "      <th>33</th>\n",
       "      <td>Somalia</td>\n",
       "      <td>10</td>\n",
       "    </tr>\n",
       "    <tr>\n",
       "      <th>34</th>\n",
       "      <td>SÃ£o TomÃ© and Principe</td>\n",
       "      <td>22</td>\n",
       "    </tr>\n",
       "    <tr>\n",
       "      <th>35</th>\n",
       "      <td>Timor-Leste</td>\n",
       "      <td>23</td>\n",
       "    </tr>\n",
       "    <tr>\n",
       "      <th>36</th>\n",
       "      <td>Tonga</td>\n",
       "      <td>32</td>\n",
       "    </tr>\n",
       "    <tr>\n",
       "      <th>37</th>\n",
       "      <td>Turkmenistan</td>\n",
       "      <td>31</td>\n",
       "    </tr>\n",
       "    <tr>\n",
       "      <th>38</th>\n",
       "      <td>Turks and Caicos Islands</td>\n",
       "      <td>12</td>\n",
       "    </tr>\n",
       "    <tr>\n",
       "      <th>39</th>\n",
       "      <td>West Bank and Gaza</td>\n",
       "      <td>29</td>\n",
       "    </tr>\n",
       "  </tbody>\n",
       "</table>\n",
       "</div>"
      ],
      "text/plain": [
       "                      Country  Count\n",
       "0                 Afghanistan     20\n",
       "1                       Aruba     32\n",
       "2                      Bhutan     32\n",
       "3      Bosnia and Herzegovina     29\n",
       "4                    Cambodia     30\n",
       "5              Cayman Islands     16\n",
       "6                     Croatia     28\n",
       "7                    CuraÃ§ao     22\n",
       "8                    Djibouti     10\n",
       "9                     Estonia     28\n",
       "10                    Hungary     32\n",
       "11                    Iceland     28\n",
       "12                     Israel     28\n",
       "13                     Kosovo     15\n",
       "14                     Kuwait     31\n",
       "15                     Latvia     28\n",
       "16                    Lebanon     32\n",
       "17                    Liberia     23\n",
       "18                      Libya     24\n",
       "19                  Lithuania     28\n",
       "20                   Maldives     28\n",
       "21                    Moldova     28\n",
       "22                 Montenegro     26\n",
       "23                      Nauru     19\n",
       "24         Other small states     23\n",
       "25                      Palau     22\n",
       "26                      Qatar     23\n",
       "27                 San Marino     25\n",
       "28                     Serbia     28\n",
       "29  Sint Maarten (Dutch part)     14\n",
       "30            Slovak Republic     31\n",
       "31                   Slovenia     28\n",
       "32               Small states     26\n",
       "33                    Somalia     10\n",
       "34    SÃ£o TomÃ© and Principe     22\n",
       "35                Timor-Leste     23\n",
       "36                      Tonga     32\n",
       "37               Turkmenistan     31\n",
       "38   Turks and Caicos Islands     12\n",
       "39         West Bank and Gaza     29"
      ]
     },
     "execution_count": 13,
     "metadata": {},
     "output_type": "execute_result"
    }
   ],
   "source": [
    "gdp_count[gdp_count[\"Count\"]<33].reset_index(drop=True)"
   ]
  },
  {
   "cell_type": "code",
   "execution_count": 14,
   "id": "b9a09351-e992-41c9-a775-ee469e36583d",
   "metadata": {},
   "outputs": [
    {
     "name": "stdout",
     "output_type": "stream",
     "text": [
      "Year\n",
      "1990    207\n",
      "1991    208\n",
      "1992    210\n",
      "1993    211\n",
      "1994    213\n",
      "1995    223\n",
      "1996    223\n",
      "1997    226\n",
      "1998    226\n",
      "1999    227\n",
      "2000    233\n",
      "2001    234\n",
      "2002    235\n",
      "2003    235\n",
      "2004    236\n",
      "2005    236\n",
      "2006    237\n",
      "2007    237\n",
      "2008    238\n",
      "2009    239\n",
      "2010    239\n",
      "2011    240\n",
      "2012    240\n",
      "2013    242\n",
      "2014    242\n",
      "2015    242\n",
      "2016    242\n",
      "2017    242\n",
      "2018    242\n",
      "2019    242\n",
      "2020    242\n",
      "2021    241\n",
      "2022    232\n"
     ]
    }
   ],
   "source": [
    "gdp_countries = gdp_df.groupby(\"Year\")\n",
    "gdp_observations = gdp_countries[\"Country\"].count()\n",
    "print(gdp_observations.to_string()) # Number of countries per year"
   ]
  },
  {
   "cell_type": "markdown",
   "id": "ddab0f65-8214-42ed-a0ba-d1edef05dbd9",
   "metadata": {},
   "source": [
    "Countries missing years of data simply haven't been included in the dataset for as long."
   ]
  },
  {
   "cell_type": "markdown",
   "id": "f2e28d6d-e084-44bc-bb6b-48144358b1fe",
   "metadata": {},
   "source": [
    "## #8. In this question, you're going to create some plots to show the distribution of GDP per capita for the year 2020. Go to the Python Graph Gallery (https://www.python-graph-gallery.com/) and look at the different types of plots under the Distribution section. Create a histogram, a density plot, a boxplot, and a violin plot. What do you notice when you look at these plots? How do the plots compare and what information can you get out of one type that you can't necessarily get out of the others?"
   ]
  },
  {
   "cell_type": "code",
   "execution_count": 17,
   "id": "2c3a0922-1400-4be5-8ba5-3b06d73727cd",
   "metadata": {},
   "outputs": [
    {
     "data": {
      "text/plain": [
       "<seaborn.axisgrid.FacetGrid at 0x2ab69e0fe00>"
      ]
     },
     "execution_count": 17,
     "metadata": {},
     "output_type": "execute_result"
    },
    {
     "data": {
      "image/png": "[encoded data removed]",
      "text/plain": [
       "<Figure size 500x500 with 1 Axes>"
      ]
     },
     "metadata": {},
     "output_type": "display_data"
    }
   ],
   "source": [
    "gdp_2020 = gdp_df[gdp_df[\"Year\"]==2020]\n",
    "sns.displot(data=gdp_2020[\"GDP_Per_Capita\"], kde=True)"
   ]
  },
  {
   "cell_type": "code",
   "execution_count": 18,
   "id": "10a8aedc-ded6-43cf-ba87-35c26eb07013",
   "metadata": {},
   "outputs": [
    {
     "data": {
      "text/plain": [
       "<Axes: xlabel='GDP_Per_Capita', ylabel='Density'>"
      ]
     },
     "execution_count": 18,
     "metadata": {},
     "output_type": "execute_result"
    },
    {
     "data": {
      "image/png": "[encoded data removed]",
      "text/plain": [
       "<Figure size 640x480 with 1 Axes>"
      ]
     },
     "metadata": {},
     "output_type": "display_data"
    }
   ],
   "source": [
    "sns.kdeplot(gdp_2020[\"GDP_Per_Capita\"])"
   ]
  },
  {
   "cell_type": "code",
   "execution_count": 19,
   "id": "5db6fdeb-728c-4e37-b7b1-22a1da2e4f8c",
   "metadata": {},
   "outputs": [
    {
     "data": {
      "text/plain": [
       "<Axes: xlabel='GDP_Per_Capita'>"
      ]
     },
     "execution_count": 19,
     "metadata": {},
     "output_type": "execute_result"
    },
    {
     "data": {
      "image/png": "[encoded data removed]",
      "text/plain": [
       "<Figure size 640x480 with 1 Axes>"
      ]
     },
     "metadata": {},
     "output_type": "display_data"
    }
   ],
   "source": [
    "sns.boxplot(x=gdp_2020[\"GDP_Per_Capita\"])"
   ]
  },
  {
   "cell_type": "code",
   "execution_count": 20,
   "id": "d8cc68eb-5389-4a97-b383-988e5f632afa",
   "metadata": {},
   "outputs": [
    {
     "data": {
      "text/plain": [
       "<Axes: ylabel='GDP_Per_Capita'>"
      ]
     },
     "execution_count": 20,
     "metadata": {},
     "output_type": "execute_result"
    },
    {
     "data": {
      "image/png": "[encoded data removed]",
      "text/plain": [
       "<Figure size 640x480 with 1 Axes>"
      ]
     },
     "metadata": {},
     "output_type": "display_data"
    }
   ],
   "source": [
    "sns.violinplot(y=gdp_2020[\"GDP_Per_Capita\"])"
   ]
  },
  {
   "cell_type": "markdown",
   "id": "b8f0cfe8-afd9-439e-a0bb-f885b4546b28",
   "metadata": {},
   "source": [
    "The violin, histogram, and density graphs all display relatively the same information. The violin graph has a box plot in it, as well, but its is smaller and conveys less information. The box-and-whisker plot displays the quartiles as well as outliers. It objectively displays the most relevant information for this dataset."
   ]
  },
  {
   "cell_type": "markdown",
   "id": "2d871e28-30d1-4093-9463-90cb0267b813",
   "metadata": {},
   "source": [
    "## #9. What was the median GDP per capita value in 2020?"
   ]
  },
  {
   "cell_type": "code",
   "execution_count": 23,
   "id": "5e83c048-e808-4604-a917-6e47cc192509",
   "metadata": {},
   "outputs": [
    {
     "data": {
      "text/plain": [
       "13357.997573370474"
      ]
     },
     "execution_count": 23,
     "metadata": {},
     "output_type": "execute_result"
    }
   ],
   "source": [
    "gdp_2020[\"GDP_Per_Capita\"].median()"
   ]
  },
  {
   "cell_type": "markdown",
   "id": "81e7db89-7001-4e8d-8e3d-3dcd4d944cf8",
   "metadata": {},
   "source": [
    "## #10. For this question, you're going to create some visualizations to compare GDP per capita values for the years 1990, 2000, 2010, and 2020. Start by subsetting your data to just these 4 years into a new DataFrame named gdp_decades. Using this, create the following 4 plots:\n",
    "\t* A boxplot\n",
    "\t* A barplot (check out the Barplot with Seaborn section: https://www.python-graph-gallery.com/barplot/#Seaborn)\n",
    "\t* A scatterplot\n",
    "\t* A scatterplot with a trend line overlaid (see this regplot example: https://www.python-graph-gallery.com/42-custom-linear-regression-fit-seaborn)  \n",
    "Comment on what you observe has happened to GDP values over time and the relative strengths and weaknesses of each type of plot."
   ]
  },
  {
   "cell_type": "code",
   "execution_count": 25,
   "id": "e1fd1c8f-4df6-47e4-8ec5-3dac8453ee90",
   "metadata": {},
   "outputs": [],
   "source": [
    "decades = (1990,2000,2010,2020)\n",
    "gdp_decades = gdp_df[gdp_df['Year'].isin(decades)]"
   ]
  },
  {
   "cell_type": "code",
   "execution_count": 26,
   "id": "f3b7653a-fc87-46d9-862f-14b32ee17302",
   "metadata": {},
   "outputs": [
    {
     "data": {
      "text/plain": [
       "<Axes: xlabel='Year', ylabel='GDP_Per_Capita'>"
      ]
     },
     "execution_count": 26,
     "metadata": {},
     "output_type": "execute_result"
    },
    {
     "data": {
      "image/png": "[encoded data removed]",
      "text/plain": [
       "<Figure size 640x480 with 1 Axes>"
      ]
     },
     "metadata": {},
     "output_type": "display_data"
    }
   ],
   "source": [
    "sns.boxplot(y=gdp_decades[\"GDP_Per_Capita\"],x=gdp_decades[\"Year\"])"
   ]
  },
  {
   "cell_type": "code",
   "execution_count": 27,
   "id": "d8573d90-16aa-4ec3-ab3d-22cc0b3545ff",
   "metadata": {},
   "outputs": [
    {
     "data": {
      "text/plain": [
       "<Axes: xlabel='Year', ylabel='GDP_Per_Capita'>"
      ]
     },
     "execution_count": 27,
     "metadata": {},
     "output_type": "execute_result"
    },
    {
     "data": {
      "image/png": "[encoded data removed]",
      "text/plain": [
       "<Figure size 640x480 with 1 Axes>"
      ]
     },
     "metadata": {},
     "output_type": "display_data"
    }
   ],
   "source": [
    "sns.barplot(x=\"Year\",y=\"GDP_Per_Capita\", data=gdp_decades)"
   ]
  },
  {
   "cell_type": "code",
   "execution_count": 28,
   "id": "dd418166-6c50-4244-9af0-5004d2ca2849",
   "metadata": {},
   "outputs": [
    {
     "data": {
      "text/plain": [
       "<Axes: xlabel='Year', ylabel='GDP_Per_Capita'>"
      ]
     },
     "execution_count": 28,
     "metadata": {},
     "output_type": "execute_result"
    },
    {
     "data": {
      "image/png": "[encoded data removed]",
      "text/plain": [
       "<Figure size 640x480 with 1 Axes>"
      ]
     },
     "metadata": {},
     "output_type": "display_data"
    }
   ],
   "source": [
    "sns.scatterplot(y=gdp_decades[\"GDP_Per_Capita\"],x=gdp_decades[\"Year\"])"
   ]
  },
  {
   "cell_type": "code",
   "execution_count": 29,
   "id": "9be68d73-6fec-48c8-9303-949171cf03c5",
   "metadata": {},
   "outputs": [
    {
     "data": {
      "text/plain": [
       "<Axes: xlabel='Year', ylabel='GDP_Per_Capita'>"
      ]
     },
     "execution_count": 29,
     "metadata": {},
     "output_type": "execute_result"
    },
    {
     "data": {
      "image/png": "[encoded data removed]",
      "text/plain": [
       "<Figure size 640x480 with 1 Axes>"
      ]
     },
     "metadata": {},
     "output_type": "display_data"
    }
   ],
   "source": [
    "sns.regplot(y=gdp_decades[\"GDP_Per_Capita\"],x=gdp_decades[\"Year\"])"
   ]
  },
  {
   "cell_type": "markdown",
   "id": "2ec5fa1d-532a-4eee-a656-b71356b285a0",
   "metadata": {},
   "source": [
    "The general trend from these plots is that GDP per capita is increasing over time. Again, I find myself drawn to the amount of information included in box-and-whisker plots, although the scatterplot with trend line does give a better visual of sample size."
   ]
  },
  {
   "cell_type": "markdown",
   "id": "b3636875-a051-482f-a2c0-02a50f46486c",
   "metadata": {},
   "source": [
    "## #11. Which country was the first to have a GDP per capita greater than $100,000?"
   ]
  },
  {
   "cell_type": "code",
   "execution_count": 32,
   "id": "03fa36f9-04fb-4b03-9f5d-a087122d0bca",
   "metadata": {},
   "outputs": [
    {
     "name": "stdout",
     "output_type": "stream",
     "text": [
      "                   Country  Year  GDP_Per_Capita\n",
      "7302  United Arab Emirates  1990   105893.626059\n"
     ]
    }
   ],
   "source": [
    "gdp_100k = gdp_df[gdp_df[\"GDP_Per_Capita\"]>100000]\n",
    "print(gdp_100k.nsmallest(1,\"Year\"))"
   ]
  },
  {
   "cell_type": "markdown",
   "id": "1cb30fc9-e64c-4327-8d80-e03f77587eb9",
   "metadata": {},
   "source": [
    "Answer: UAE was the first, with a GDP per capita of 105893.63"
   ]
  },
  {
   "cell_type": "markdown",
   "id": "7f5e7cef-4621-4930-8e41-7acd4f4220a6",
   "metadata": {},
   "source": [
    "## #12. Which country had the highest GDP per capita in 2020? Create a plot showing how this country's GDP per capita has changed over the timespan of the dataset."
   ]
  },
  {
   "cell_type": "code",
   "execution_count": 35,
   "id": "9e53567d-0f8b-4e22-a99d-dacf1d1403af",
   "metadata": {},
   "outputs": [
    {
     "data": {
      "text/html": [
       "<div>\n",
       "<style scoped>\n",
       "    .dataframe tbody tr th:only-of-type {\n",
       "        vertical-align: middle;\n",
       "    }\n",
       "\n",
       "    .dataframe tbody tr th {\n",
       "        vertical-align: top;\n",
       "    }\n",
       "\n",
       "    .dataframe thead th {\n",
       "        text-align: right;\n",
       "    }\n",
       "</style>\n",
       "<table border=\"1\" class=\"dataframe\">\n",
       "  <thead>\n",
       "    <tr style=\"text-align: right;\">\n",
       "      <th></th>\n",
       "      <th>Country</th>\n",
       "      <th>Year</th>\n",
       "      <th>GDP_Per_Capita</th>\n",
       "    </tr>\n",
       "  </thead>\n",
       "  <tbody>\n",
       "    <tr>\n",
       "      <th>4148</th>\n",
       "      <td>Luxembourg</td>\n",
       "      <td>2020</td>\n",
       "      <td>111751.314751</td>\n",
       "    </tr>\n",
       "  </tbody>\n",
       "</table>\n",
       "</div>"
      ],
      "text/plain": [
       "         Country  Year  GDP_Per_Capita\n",
       "4148  Luxembourg  2020   111751.314751"
      ]
     },
     "execution_count": 35,
     "metadata": {},
     "output_type": "execute_result"
    }
   ],
   "source": [
    "gdp_2020.nlargest(1,\"GDP_Per_Capita\")"
   ]
  },
  {
   "cell_type": "code",
   "execution_count": 36,
   "id": "553abc3a-b870-4e05-ac7c-9a063d324c77",
   "metadata": {},
   "outputs": [
    {
     "data": {
      "text/plain": [
       "<Axes: xlabel='Year', ylabel='GDP_Per_Capita'>"
      ]
     },
     "execution_count": 36,
     "metadata": {},
     "output_type": "execute_result"
    },
    {
     "data": {
      "image/png": "[encoded data removed]",
      "text/plain": [
       "<Figure size 640x480 with 1 Axes>"
      ]
     },
     "metadata": {},
     "output_type": "display_data"
    }
   ],
   "source": [
    "gdp_lux = gdp_df[gdp_df[\"Country\"]==\"Luxembourg\"]\n",
    "sns.lineplot(x=gdp_lux[\"Year\"],y=gdp_lux[\"GDP_Per_Capita\"])"
   ]
  },
  {
   "cell_type": "markdown",
   "id": "2bf22315-40d8-41e0-9143-9b44e3b9bca8",
   "metadata": {},
   "source": [
    "## #13. Which country had the lowest GDP per capita in 2020? Create a plot showing how this country's GDP per capita has changed over the timespan of the dataset. **Bonus question:** Is it true in general that coutries had a higher GDP per capita in 2020 than in 1990? Which countries had lower GDP per capita in 2020 than in 1990?"
   ]
  },
  {
   "cell_type": "code",
   "execution_count": 38,
   "id": "b68faf8a-5650-46d3-a230-da2a4b632280",
   "metadata": {},
   "outputs": [
    {
     "data": {
      "text/html": [
       "<div>\n",
       "<style scoped>\n",
       "    .dataframe tbody tr th:only-of-type {\n",
       "        vertical-align: middle;\n",
       "    }\n",
       "\n",
       "    .dataframe tbody tr th {\n",
       "        vertical-align: top;\n",
       "    }\n",
       "\n",
       "    .dataframe thead th {\n",
       "        text-align: right;\n",
       "    }\n",
       "</style>\n",
       "<table border=\"1\" class=\"dataframe\">\n",
       "  <thead>\n",
       "    <tr style=\"text-align: right;\">\n",
       "      <th></th>\n",
       "      <th>Country</th>\n",
       "      <th>Year</th>\n",
       "      <th>GDP_Per_Capita</th>\n",
       "    </tr>\n",
       "  </thead>\n",
       "  <tbody>\n",
       "    <tr>\n",
       "      <th>973</th>\n",
       "      <td>Burundi</td>\n",
       "      <td>2020</td>\n",
       "      <td>711.355263</td>\n",
       "    </tr>\n",
       "  </tbody>\n",
       "</table>\n",
       "</div>"
      ],
      "text/plain": [
       "     Country  Year  GDP_Per_Capita\n",
       "973  Burundi  2020      711.355263"
      ]
     },
     "execution_count": 38,
     "metadata": {},
     "output_type": "execute_result"
    }
   ],
   "source": [
    "gdp_2020.sort_values(by=\"GDP_Per_Capita\").head(1)"
   ]
  },
  {
   "cell_type": "code",
   "execution_count": 39,
   "id": "72878770-adee-4270-9786-42e1d74c8745",
   "metadata": {},
   "outputs": [
    {
     "data": {
      "text/plain": [
       "<Axes: xlabel='Year', ylabel='GDP_Per_Capita'>"
      ]
     },
     "execution_count": 39,
     "metadata": {},
     "output_type": "execute_result"
    },
    {
     "data": {
      "image/png": "[encoded data removed]",
      "text/plain": [
       "<Figure size 640x480 with 1 Axes>"
      ]
     },
     "metadata": {},
     "output_type": "display_data"
    }
   ],
   "source": [
    "gdp_bur = gdp_df[gdp_df[\"Country\"]==\"Burundi\"]\n",
    "sns.lineplot(x=gdp_bur[\"Year\"],y=gdp_bur[\"GDP_Per_Capita\"])"
   ]
  },
  {
   "cell_type": "code",
   "execution_count": 40,
   "id": "b799230b-d8ed-405a-84eb-33d9f6fdbee1",
   "metadata": {},
   "outputs": [],
   "source": [
    "gdp_1990 = gdp_df[gdp_df[\"Year\"]==1990]"
   ]
  },
  {
   "cell_type": "code",
   "execution_count": 41,
   "id": "1c2b2214-6f89-4152-b3f9-734f0431e2c4",
   "metadata": {},
   "outputs": [
    {
     "name": "stdout",
     "output_type": "stream",
     "text": [
      "(207, 5)\n"
     ]
    }
   ],
   "source": [
    "gdp_diff = gdp_2020.merge(gdp_1990,left_on=\"Country\",right_on=\"Country\",suffixes=(\"_2020\",\"_1990\"))\n",
    "print(gdp_diff.shape)"
   ]
  },
  {
   "cell_type": "code",
   "execution_count": 42,
   "id": "25427066-5c2d-4ac8-a537-615c0113986a",
   "metadata": {},
   "outputs": [
    {
     "name": "stdout",
     "output_type": "stream",
     "text": [
      "(19, 5)\n"
     ]
    }
   ],
   "source": [
    "print(gdp_diff[gdp_diff[\"GDP_Per_Capita_2020\"]<gdp_diff[\"GDP_Per_Capita_1990\"]].shape)"
   ]
  },
  {
   "cell_type": "markdown",
   "id": "8dc187a6-b87a-4d3c-84b9-43c556d14cc9",
   "metadata": {},
   "source": [
    "Comparing the number of rows in the merged list to the filtered list, it is true, in general, that countries in this dataset have a higher GDP in 2020 than in 1990, with 19 exceptions."
   ]
  },
  {
   "cell_type": "markdown",
   "id": "e9ed3f85-af5d-494f-99c4-c6d154018c9b",
   "metadata": {},
   "source": [
    "## #14. Read in the internet use dataset into a DataFrame named `internet_df`. You will likely get errors when doing this. Check the arguments for the read_csv function to find ones that can help correct the errors (https://pandas.pydata.org/docs/reference/api/pandas.read_csv.html) Once you are able to read it in, take per a look at the top and bottom few rows to make sure that it has been read in correctly. Also, check the datatypes of the columns."
   ]
  },
  {
   "cell_type": "code",
   "execution_count": 45,
   "id": "1e5c6054-a9ee-4b69-a24f-95554674ab89",
   "metadata": {},
   "outputs": [
    {
     "name": "stdout",
     "output_type": "stream",
     "text": [
      "     Country or Area  Year      Value Value Footnotes\n",
      "0        Afghanistan  2019  17.600000               1\n",
      "1        Afghanistan  2018  16.800000               2\n",
      "2        Afghanistan  2017  13.500000               3\n",
      "3        Afghanistan  2016  11.000000               4\n",
      "4        Afghanistan  2015   8.260000               4\n",
      "...              ...   ...        ...             ...\n",
      "6078        Zimbabwe  1997   0.033080             NaN\n",
      "6079        Zimbabwe  1996   0.016790             NaN\n",
      "6080        Zimbabwe  1995   0.007684             NaN\n",
      "6081        Zimbabwe  1994   0.001739             NaN\n",
      "6082        Zimbabwe  1990   0.000000             NaN\n",
      "\n",
      "[6083 rows x 4 columns]\n",
      "<class 'pandas.core.frame.DataFrame'>\n",
      "RangeIndex: 6083 entries, 0 to 6082\n",
      "Data columns (total 4 columns):\n",
      " #   Column           Non-Null Count  Dtype  \n",
      "---  ------           --------------  -----  \n",
      " 0   Country or Area  6083 non-null   object \n",
      " 1   Year             6083 non-null   int64  \n",
      " 2   Value            6083 non-null   float64\n",
      " 3   Value Footnotes  2826 non-null   object \n",
      "dtypes: float64(1), int64(1), object(2)\n",
      "memory usage: 190.2+ KB\n"
     ]
    }
   ],
   "source": [
    "internet_df = pd.read_csv('../data/internet_use.csv',nrows=6083)\n",
    "print(internet_df)\n",
    "internet_df.info()"
   ]
  },
  {
   "cell_type": "markdown",
   "id": "504d7f5f-c333-4783-a88c-d24f1617dc3e",
   "metadata": {},
   "source": [
    "## 15. Drop the `Value Footnotes` column and rename the remaining three to 'Country', 'Year', and 'Internet_Users_Pct'."
   ]
  },
  {
   "cell_type": "code",
   "execution_count": 47,
   "id": "d1ff7b44-b9a4-4fca-a276-1c252ee46ee5",
   "metadata": {},
   "outputs": [],
   "source": [
    "internet_df.drop(columns=\"Value Footnotes\", inplace=True)"
   ]
  },
  {
   "cell_type": "code",
   "execution_count": 48,
   "id": "70600579-b6bb-4a24-ba3f-6ebdab8446d6",
   "metadata": {},
   "outputs": [
    {
     "name": "stdout",
     "output_type": "stream",
     "text": [
      "          Country  Year  Inter_Users_Pct\n",
      "0     Afghanistan  2019        17.600000\n",
      "1     Afghanistan  2018        16.800000\n",
      "2     Afghanistan  2017        13.500000\n",
      "3     Afghanistan  2016        11.000000\n",
      "4     Afghanistan  2015         8.260000\n",
      "...           ...   ...              ...\n",
      "6078     Zimbabwe  1997         0.033080\n",
      "6079     Zimbabwe  1996         0.016790\n",
      "6080     Zimbabwe  1995         0.007684\n",
      "6081     Zimbabwe  1994         0.001739\n",
      "6082     Zimbabwe  1990         0.000000\n",
      "\n",
      "[6083 rows x 3 columns]\n"
     ]
    }
   ],
   "source": [
    "internet_df.rename(columns={\"Country or Area\":\"Country\",\"Value\":\"Inter_Users_Pct\"},inplace=True)\n",
    "print(internet_df)"
   ]
  },
  {
   "cell_type": "markdown",
   "id": "e56862a9-4d8a-434f-9788-90ecef7a858b",
   "metadata": {},
   "source": [
    "## #16. Look at the number of observations in this dataset per year. What do you notice?"
   ]
  },
  {
   "cell_type": "code",
   "execution_count": 50,
   "id": "3d35cc31-ff63-4396-b7fc-1412ed2efa43",
   "metadata": {},
   "outputs": [
    {
     "name": "stdout",
     "output_type": "stream",
     "text": [
      "Year\n",
      "1990    226\n",
      "1991     39\n",
      "1992     50\n",
      "1993     66\n",
      "1994     92\n",
      "1995    141\n",
      "1996    177\n",
      "1997    188\n",
      "1998    195\n",
      "1999    207\n",
      "2000    210\n",
      "2001    212\n",
      "2002    214\n",
      "2003    208\n",
      "2004    210\n",
      "2005    212\n",
      "2006    212\n",
      "2007    217\n",
      "2008    214\n",
      "2009    214\n",
      "2010    209\n",
      "2011    214\n",
      "2012    209\n",
      "2013    203\n",
      "2014    204\n",
      "2015    203\n",
      "2016    206\n",
      "2017    205\n",
      "2018    174\n",
      "2019    185\n",
      "2020    186\n",
      "2021    186\n",
      "2022    184\n",
      "2023     11\n"
     ]
    }
   ],
   "source": [
    "internet_years = internet_df.groupby(\"Year\")[\"Country\"].count()\n",
    "print(internet_years.to_string())"
   ]
  },
  {
   "cell_type": "markdown",
   "id": "bdb7a1ca-8def-417e-bbc0-3bdf831c299e",
   "metadata": {},
   "source": [
    "Unlike the last dataset, internet_df has values that leave the dataset, evidenced by the counts going down between years. It appears that the 2023 dataset ends abruptly, explaining the 11 entries."
   ]
  },
  {
   "cell_type": "markdown",
   "id": "694baccd-da88-4f1f-bbd7-f764d32f1666",
   "metadata": {},
   "source": [
    "## #17. What is the first year to have a non-zero internet users percentage value?"
   ]
  },
  {
   "cell_type": "code",
   "execution_count": 53,
   "id": "3a4d4b8b-a6eb-4e75-96e4-e3ae7a4619d6",
   "metadata": {},
   "outputs": [
    {
     "name": "stdout",
     "output_type": "stream",
     "text": [
      "   Country  Year  Inter_Users_Pct\n",
      "0  Denmark  1990         0.097277\n"
     ]
    }
   ],
   "source": [
    "print(internet_df[internet_df[\"Inter_Users_Pct\"]>0].sort_values(by=\"Year\").reset_index(drop=True).head(1))"
   ]
  },
  {
   "cell_type": "markdown",
   "id": "fc8af6cf-dc32-44f6-8a51-663c0be93d37",
   "metadata": {},
   "source": [
    "1990, the first year of the dataset"
   ]
  },
  {
   "cell_type": "markdown",
   "id": "c44a5dd0-686e-420e-9cd7-ef8f33f11fa7",
   "metadata": {},
   "source": [
    "## #18. How does the distribution of internet users percent differ for 2000 and 2014?"
   ]
  },
  {
   "cell_type": "code",
   "execution_count": 56,
   "id": "1817c298-01d2-4c59-ad63-94c26b9ea6af",
   "metadata": {},
   "outputs": [
    {
     "name": "stdout",
     "output_type": "stream",
     "text": [
      "                 Country  Inter_Users_Pct_2000  Inter_Users_Pct_2014\n",
      "0                Albania              0.114097               54.3000\n",
      "1                Algeria              0.491706               29.5000\n",
      "2                Andorra             10.538800               86.1000\n",
      "3                 Angola              0.105046               21.3623\n",
      "4               Anguilla             22.405400               70.3900\n",
      "..                   ...                   ...                   ...\n",
      "190             Viet Nam              0.254248               41.0000\n",
      "191  Virgin Islands (US)             13.815100               50.0700\n",
      "192                Yemen              0.082500               22.5500\n",
      "193               Zambia              0.191072                6.5000\n",
      "194             Zimbabwe              0.401434               16.3647\n",
      "\n",
      "[195 rows x 3 columns]\n"
     ]
    }
   ],
   "source": [
    "internet_2000 = internet_df[internet_df[\"Year\"]==2000]\n",
    "internet_2014 = internet_df[internet_df[\"Year\"]==2014]\n",
    "internet_diff = internet_2000.merge(internet_2014,left_on=\"Country\",right_on=\"Country\",suffixes=(\"_2000\",\"_2014\")).drop(columns={\"Year_2000\",\"Year_2014\"})\n",
    "print(internet_diff)"
   ]
  },
  {
   "cell_type": "code",
   "execution_count": 57,
   "id": "f5f816fb-8302-4698-a16c-800ebb4b3492",
   "metadata": {},
   "outputs": [
    {
     "data": {
      "text/plain": [
       "<Axes: xlabel='Year', ylabel='Inter_Users_Pct'>"
      ]
     },
     "execution_count": 57,
     "metadata": {},
     "output_type": "execute_result"
    },
    {
     "data": {
      "image/png": "[encoded data removed]",
      "text/plain": [
       "<Figure size 640x480 with 1 Axes>"
      ]
     },
     "metadata": {},
     "output_type": "display_data"
    }
   ],
   "source": [
    "internet_dist = internet_df[internet_df[\"Year\"].isin([2000,2014])]\n",
    "sns.boxplot(x=internet_dist[\"Year\"],y=internet_dist[\"Inter_Users_Pct\"])"
   ]
  },
  {
   "cell_type": "markdown",
   "id": "f367b168-4252-463f-987e-c5cca46e6c86",
   "metadata": {},
   "source": [
    "By and large, distribution of Inter_Users_Pct has increased dramatically from 2000 to 2014. "
   ]
  },
  {
   "cell_type": "markdown",
   "id": "eab80c41-9f27-47f3-90ef-c0a57348b464",
   "metadata": {},
   "source": [
    "## #19. For how many countries was the percentage of internet users below 5% in 2014?"
   ]
  },
  {
   "cell_type": "code",
   "execution_count": 60,
   "id": "4d31ba60-f7ee-4d66-b015-af3b4858d343",
   "metadata": {},
   "outputs": [
    {
     "name": "stdout",
     "output_type": "stream",
     "text": [
      "10\n"
     ]
    }
   ],
   "source": [
    "internet_2014 = internet_df[internet_df[\"Year\"]==2014]\n",
    "internet_5pct = internet_2014[internet_2014[\"Inter_Users_Pct\"]<5]\n",
    "print(internet_5pct[\"Country\"].count())"
   ]
  },
  {
   "cell_type": "markdown",
   "id": "debbdf4e-0689-4a79-905c-7f9d8fc39c56",
   "metadata": {},
   "source": [
    "10 Countries."
   ]
  },
  {
   "cell_type": "markdown",
   "id": "52f84a73-ceb9-4c4f-b12a-8857bfee3185",
   "metadata": {},
   "source": [
    "## #20. Merge the two DataFrames to one. Do this in a way that keeps **all rows** from each of the two DataFrames. Call the new DataFrame `gdp_and_internet_use`. Look at the first and last few rows to confirm that it merged correctly."
   ]
  },
  {
   "cell_type": "code",
   "execution_count": 152,
   "id": "9c42f13e-db32-422f-bfdc-75c82cfcddfc",
   "metadata": {},
   "outputs": [
    {
     "name": "stdout",
     "output_type": "stream",
     "text": [
      "          Country  Year  GDP_Per_Capita  Inter_Users_Pct\n",
      "0     Afghanistan  1990             NaN         0.000000\n",
      "1     Afghanistan  2001             NaN         0.004723\n",
      "2     Afghanistan  2002     1280.463171         0.004561\n",
      "3     Afghanistan  2003     1292.333437         0.087891\n",
      "4     Afghanistan  2004     1260.060581         0.105809\n",
      "...           ...   ...             ...              ...\n",
      "9075     Zimbabwe  2018     2399.621551        25.000000\n",
      "9076     Zimbabwe  2019     2203.396810        26.588300\n",
      "9077     Zimbabwe  2020     1990.319419        29.298600\n",
      "9078     Zimbabwe  2021     2115.144555        32.461600\n",
      "9079     Zimbabwe  2022     2143.237574        32.561500\n",
      "\n",
      "[9080 rows x 4 columns]\n"
     ]
    }
   ],
   "source": [
    "gdp_and_internet_use = gdp_df.merge(internet_df, how=\"outer\",on=[\"Country\",\"Year\"])\n",
    "print(gdp_and_internet_use)"
   ]
  },
  {
   "cell_type": "markdown",
   "id": "3dde509c-dc17-4a37-9515-36cc7dc0619b",
   "metadata": {},
   "source": [
    "## #21. Find the three countries with the highest internet users percentage in 2014. Use a seaborn FacetGrid (https://seaborn.pydata.org/generated/seaborn.FacetGrid.html) to compare how the GDP per capita has changed over time for these three countries. What do you notice?"
   ]
  },
  {
   "cell_type": "code",
   "execution_count": 65,
   "id": "46d00b2b-5a9d-4048-8d5e-7eabe2e934b4",
   "metadata": {},
   "outputs": [
    {
     "data": {
      "text/plain": [
       "<seaborn.axisgrid.FacetGrid at 0x2ab6e432f60>"
      ]
     },
     "execution_count": 65,
     "metadata": {},
     "output_type": "execute_result"
    },
    {
     "data": {
      "image/png": "[encoded data removed]",
      "text/plain": [
       "<Figure size 900x300 with 3 Axes>"
      ]
     },
     "metadata": {},
     "output_type": "display_data"
    }
   ],
   "source": [
    "df_2014 = gdp_and_internet_use[gdp_and_internet_use[\"Year\"]==2014]\n",
    "top3_df = df_2014.nlargest(3,\"Inter_Users_Pct\")\n",
    "sns.FacetGrid(gdp_and_internet_use[gdp_and_internet_use[\"Country\"].isin(top3_df[\"Country\"])], col=\"Country\").map(sns.scatterplot, \"Year\", \"GDP_Per_Capita\")"
   ]
  },
  {
   "cell_type": "code",
   "execution_count": 66,
   "id": "3c44e1e0-f52d-46a2-8dbe-4d3f1cd13656",
   "metadata": {},
   "outputs": [
    {
     "data": {
      "text/html": [
       "<div>\n",
       "<style scoped>\n",
       "    .dataframe tbody tr th:only-of-type {\n",
       "        vertical-align: middle;\n",
       "    }\n",
       "\n",
       "    .dataframe tbody tr th {\n",
       "        vertical-align: top;\n",
       "    }\n",
       "\n",
       "    .dataframe thead th {\n",
       "        text-align: right;\n",
       "    }\n",
       "</style>\n",
       "<table border=\"1\" class=\"dataframe\">\n",
       "  <thead>\n",
       "    <tr style=\"text-align: right;\">\n",
       "      <th></th>\n",
       "      <th>Country</th>\n",
       "      <th>Year</th>\n",
       "      <th>GDP_Per_Capita</th>\n",
       "      <th>Inter_Users_Pct</th>\n",
       "    </tr>\n",
       "  </thead>\n",
       "  <tbody>\n",
       "    <tr>\n",
       "      <th>3820</th>\n",
       "      <td>Iceland</td>\n",
       "      <td>2014</td>\n",
       "      <td>50450.741612</td>\n",
       "      <td>98.158</td>\n",
       "    </tr>\n",
       "    <tr>\n",
       "      <th>2780</th>\n",
       "      <td>Falkland (Malvinas) Islands</td>\n",
       "      <td>2014</td>\n",
       "      <td>NaN</td>\n",
       "      <td>97.600</td>\n",
       "    </tr>\n",
       "    <tr>\n",
       "      <th>794</th>\n",
       "      <td>Bermuda</td>\n",
       "      <td>2014</td>\n",
       "      <td>77361.104881</td>\n",
       "      <td>96.800</td>\n",
       "    </tr>\n",
       "  </tbody>\n",
       "</table>\n",
       "</div>"
      ],
      "text/plain": [
       "                          Country  Year  GDP_Per_Capita  Inter_Users_Pct\n",
       "3820                      Iceland  2014    50450.741612           98.158\n",
       "2780  Falkland (Malvinas) Islands  2014             NaN           97.600\n",
       "794                       Bermuda  2014    77361.104881           96.800"
      ]
     },
     "execution_count": 66,
     "metadata": {},
     "output_type": "execute_result"
    }
   ],
   "source": [
    "top3_df"
   ]
  },
  {
   "cell_type": "markdown",
   "id": "f369e38a-bc4b-489c-88d1-25a05207ec9e",
   "metadata": {},
   "source": [
    "The Falkland Islands is not included in the gdp_df dataframe. Comparing Bermuda and Iceland's graphs, there appears to be little to no correlation between GDP and Internet Use Percentage."
   ]
  },
  {
   "cell_type": "markdown",
   "id": "cd26705a-3476-4e86-b25e-3355e894c428",
   "metadata": {},
   "source": [
    "## #22. Subset `gdp_and_internet_use` to just the year 2014. Save this as a new dataframe named `gdp_and_internet_use_2014`."
   ]
  },
  {
   "cell_type": "code",
   "execution_count": 69,
   "id": "f9fa09b2-e3b6-4712-ad51-3ee25fde1a7e",
   "metadata": {},
   "outputs": [
    {
     "data": {
      "text/html": [
       "<div>\n",
       "<style scoped>\n",
       "    .dataframe tbody tr th:only-of-type {\n",
       "        vertical-align: middle;\n",
       "    }\n",
       "\n",
       "    .dataframe tbody tr th {\n",
       "        vertical-align: top;\n",
       "    }\n",
       "\n",
       "    .dataframe thead th {\n",
       "        text-align: right;\n",
       "    }\n",
       "</style>\n",
       "<table border=\"1\" class=\"dataframe\">\n",
       "  <thead>\n",
       "    <tr style=\"text-align: right;\">\n",
       "      <th></th>\n",
       "      <th>Country</th>\n",
       "      <th>Year</th>\n",
       "      <th>GDP_Per_Capita</th>\n",
       "      <th>Inter_Users_Pct</th>\n",
       "    </tr>\n",
       "  </thead>\n",
       "  <tbody>\n",
       "    <tr>\n",
       "      <th>14</th>\n",
       "      <td>Afghanistan</td>\n",
       "      <td>2014</td>\n",
       "      <td>2144.449634</td>\n",
       "      <td>7.0000</td>\n",
       "    </tr>\n",
       "    <tr>\n",
       "      <th>46</th>\n",
       "      <td>Africa Eastern and Southern</td>\n",
       "      <td>2014</td>\n",
       "      <td>3642.875373</td>\n",
       "      <td>NaN</td>\n",
       "    </tr>\n",
       "    <tr>\n",
       "      <th>79</th>\n",
       "      <td>Africa Western and Central</td>\n",
       "      <td>2014</td>\n",
       "      <td>4146.994622</td>\n",
       "      <td>NaN</td>\n",
       "    </tr>\n",
       "    <tr>\n",
       "      <th>112</th>\n",
       "      <td>Albania</td>\n",
       "      <td>2014</td>\n",
       "      <td>11586.817446</td>\n",
       "      <td>54.3000</td>\n",
       "    </tr>\n",
       "    <tr>\n",
       "      <th>145</th>\n",
       "      <td>Algeria</td>\n",
       "      <td>2014</td>\n",
       "      <td>11561.259795</td>\n",
       "      <td>29.5000</td>\n",
       "    </tr>\n",
       "    <tr>\n",
       "      <th>...</th>\n",
       "      <td>...</td>\n",
       "      <td>...</td>\n",
       "      <td>...</td>\n",
       "      <td>...</td>\n",
       "    </tr>\n",
       "    <tr>\n",
       "      <th>8978</th>\n",
       "      <td>West Bank and Gaza</td>\n",
       "      <td>2014</td>\n",
       "      <td>5967.073437</td>\n",
       "      <td>NaN</td>\n",
       "    </tr>\n",
       "    <tr>\n",
       "      <th>9011</th>\n",
       "      <td>World</td>\n",
       "      <td>2014</td>\n",
       "      <td>15120.730322</td>\n",
       "      <td>NaN</td>\n",
       "    </tr>\n",
       "    <tr>\n",
       "      <th>9039</th>\n",
       "      <td>Yemen</td>\n",
       "      <td>2014</td>\n",
       "      <td>NaN</td>\n",
       "      <td>22.5500</td>\n",
       "    </tr>\n",
       "    <tr>\n",
       "      <th>9070</th>\n",
       "      <td>Zambia</td>\n",
       "      <td>2014</td>\n",
       "      <td>3375.941270</td>\n",
       "      <td>6.5000</td>\n",
       "    </tr>\n",
       "    <tr>\n",
       "      <th>9103</th>\n",
       "      <td>Zimbabwe</td>\n",
       "      <td>2014</td>\n",
       "      <td>2316.954536</td>\n",
       "      <td>16.3647</td>\n",
       "    </tr>\n",
       "  </tbody>\n",
       "</table>\n",
       "<p>284 rows × 4 columns</p>\n",
       "</div>"
      ],
      "text/plain": [
       "                          Country  Year  GDP_Per_Capita  Inter_Users_Pct\n",
       "14                    Afghanistan  2014     2144.449634           7.0000\n",
       "46    Africa Eastern and Southern  2014     3642.875373              NaN\n",
       "79     Africa Western and Central  2014     4146.994622              NaN\n",
       "112                       Albania  2014    11586.817446          54.3000\n",
       "145                       Algeria  2014    11561.259795          29.5000\n",
       "...                           ...   ...             ...              ...\n",
       "8978           West Bank and Gaza  2014     5967.073437              NaN\n",
       "9011                        World  2014    15120.730322              NaN\n",
       "9039                        Yemen  2014             NaN          22.5500\n",
       "9070                       Zambia  2014     3375.941270           6.5000\n",
       "9103                     Zimbabwe  2014     2316.954536          16.3647\n",
       "\n",
       "[284 rows x 4 columns]"
      ]
     },
     "execution_count": 69,
     "metadata": {},
     "output_type": "execute_result"
    }
   ],
   "source": [
    "# I already did this in the last question, but I'll do it again for practice's sake.\n",
    "gdp_and_internet_use_2014 = gdp_and_internet_use[gdp_and_internet_use[\"Year\"]==2014]\n",
    "gdp_and_internet_use_2014"
   ]
  },
  {
   "cell_type": "markdown",
   "id": "f8fae56a-7d08-4ba3-ba20-df3af7739a1f",
   "metadata": {},
   "source": [
    "## #23. Create a plot which compares Internet Users Percentage and GDP per Capita for the year 2014. What do you notice from this plot? If you see any unusual points, investigate them."
   ]
  },
  {
   "cell_type": "code",
   "execution_count": 71,
   "id": "3b5e4dab-0ae3-4033-b5f5-e63290b095a3",
   "metadata": {},
   "outputs": [
    {
     "data": {
      "text/plain": [
       "<Axes: xlabel='Inter_Users_Pct', ylabel='GDP_Per_Capita'>"
      ]
     },
     "execution_count": 71,
     "metadata": {},
     "output_type": "execute_result"
    },
    {
     "data": {
      "image/png": "[encoded data removed]",
      "text/plain": [
       "<Figure size 640x480 with 1 Axes>"
      ]
     },
     "metadata": {},
     "output_type": "display_data"
    }
   ],
   "source": [
    "sns.regplot(x=gdp_and_internet_use_2014[\"Inter_Users_Pct\"],y=gdp_and_internet_use_2014[\"GDP_Per_Capita\"])"
   ]
  },
  {
   "cell_type": "code",
   "execution_count": 72,
   "id": "abf638a7-bbe5-44bb-8452-d54afbf01084",
   "metadata": {},
   "outputs": [
    {
     "name": "stdout",
     "output_type": "stream",
     "text": [
      "                Country  Year  GDP_Per_Capita  Inter_Users_Pct\n",
      "2461  Equatorial Guinea  2014    28106.198389          18.8600\n",
      "4839              Libya  2014    19569.900489          17.7600\n",
      "8439       Turkmenistan  2014    11989.653764          12.2000\n",
      "7660          Sri Lanka  2014    11768.020392          10.5000\n",
      "5653           Mongolia  2014    11107.988979          19.9424\n",
      "5818            Namibia  2014    10554.564755          14.8400\n",
      "3886          Indonesia  2014     9759.025207          17.1432\n",
      "3982               Iraq  2014     9194.864078          11.6453\n",
      "6063          Nicaragua  2014     5385.527436          17.6000\n",
      "3853              India  2014     5071.047084          13.5000\n"
     ]
    }
   ],
   "source": [
    "print(gdp_and_internet_use_2014[gdp_and_internet_use_2014[\"Inter_Users_Pct\"]<20].nlargest(10,\"GDP_Per_Capita\"))"
   ]
  },
  {
   "cell_type": "markdown",
   "id": "0096046e-0334-43c9-948c-def26f9e8eb4",
   "metadata": {},
   "source": [
    "\"Equatorial Guinea has the highest gross national income (GNI) per capita of any African country, 83 times larger than the GNI per capita of Burundi, the poorest country.\" -'50 Things You Didn't Know About Africa', World Bank\n",
    "\n",
    "The outlier above, around the 20% Inter_Users_Pct mark, belongs to Equatorial Guinea. After having oil discovered in 1996, the GDP of the country skyrocketed. However, the wealth inequality is staggering. So while its GDP per capita is leagues higher than its neighbors, its percentage of citizens with internet access is still <20%.\n",
    "\n",
    "Aside from this, it's plain to see the positive correlation between GDP per capita and internet access, no doubt due to developed countries having the infrastructure to support wide access to the internet."
   ]
  },
  {
   "cell_type": "code",
   "execution_count": 74,
   "id": "64e329c1-451e-4941-9c9a-016981176daa",
   "metadata": {},
   "outputs": [
    {
     "name": "stdout",
     "output_type": "stream",
     "text": [
      "                   Country  Year  GDP_Per_Capita  Inter_Users_Pct\n",
      "5023            Luxembourg  2014   113313.578898          94.6702\n",
      "6780                 Qatar  2014   106141.326189          91.4900\n",
      "794                Bermuda  2014    77361.104881          96.8000\n",
      "8647  United Arab Emirates  2014    64334.091552          90.4000\n",
      "6243                Norway  2014    62838.515727          96.3005\n",
      "2100               Denmark  2014    52048.335493          95.9935\n",
      "3820               Iceland  2014    50450.741612          98.1580\n",
      "7998                Sweden  2014    49258.996164          92.5236\n",
      "562                Bahrain  2014    49117.988448          90.5031\n",
      "8680        United Kingdom  2014    43990.996722          91.6133\n"
     ]
    }
   ],
   "source": [
    "print(gdp_and_internet_use_2014[gdp_and_internet_use_2014[\"Inter_Users_Pct\"]>90].nlargest(10,\"GDP_Per_Capita\"))"
   ]
  },
  {
   "cell_type": "markdown",
   "id": "75fbe27c-22e9-47bb-a06e-781a172802ae",
   "metadata": {},
   "source": [
    "## #24. **Stretch Question:** Use the `qcut` function from pandas (https://pandas.pydata.org/docs/reference/api/pandas.qcut.html) to divide countries in `gdp_per_capita_2014` into three groups based on their GDP per capita values. Label these groups as \"Low\", \"Medium\", and \"High\". Put these labels in a new column, named \"GDP_group\"."
   ]
  },
  {
   "cell_type": "code",
   "execution_count": 76,
   "id": "2e53dce0-e1e7-415b-a045-0ba22fd1c943",
   "metadata": {},
   "outputs": [
    {
     "data": {
      "text/html": [
       "<div>\n",
       "<style scoped>\n",
       "    .dataframe tbody tr th:only-of-type {\n",
       "        vertical-align: middle;\n",
       "    }\n",
       "\n",
       "    .dataframe tbody tr th {\n",
       "        vertical-align: top;\n",
       "    }\n",
       "\n",
       "    .dataframe thead th {\n",
       "        text-align: right;\n",
       "    }\n",
       "</style>\n",
       "<table border=\"1\" class=\"dataframe\">\n",
       "  <thead>\n",
       "    <tr style=\"text-align: right;\">\n",
       "      <th></th>\n",
       "      <th>Country</th>\n",
       "      <th>Year</th>\n",
       "      <th>GDP_Per_Capita</th>\n",
       "      <th>Inter_Users_Pct</th>\n",
       "      <th>GDP_group</th>\n",
       "    </tr>\n",
       "  </thead>\n",
       "  <tbody>\n",
       "    <tr>\n",
       "      <th>14</th>\n",
       "      <td>Afghanistan</td>\n",
       "      <td>2014</td>\n",
       "      <td>2144.449634</td>\n",
       "      <td>7.0000</td>\n",
       "      <td>Low</td>\n",
       "    </tr>\n",
       "    <tr>\n",
       "      <th>46</th>\n",
       "      <td>Africa Eastern and Southern</td>\n",
       "      <td>2014</td>\n",
       "      <td>3642.875373</td>\n",
       "      <td>NaN</td>\n",
       "      <td>Low</td>\n",
       "    </tr>\n",
       "    <tr>\n",
       "      <th>79</th>\n",
       "      <td>Africa Western and Central</td>\n",
       "      <td>2014</td>\n",
       "      <td>4146.994622</td>\n",
       "      <td>NaN</td>\n",
       "      <td>Low</td>\n",
       "    </tr>\n",
       "    <tr>\n",
       "      <th>112</th>\n",
       "      <td>Albania</td>\n",
       "      <td>2014</td>\n",
       "      <td>11586.817446</td>\n",
       "      <td>54.3000</td>\n",
       "      <td>Medium</td>\n",
       "    </tr>\n",
       "    <tr>\n",
       "      <th>145</th>\n",
       "      <td>Algeria</td>\n",
       "      <td>2014</td>\n",
       "      <td>11561.259795</td>\n",
       "      <td>29.5000</td>\n",
       "      <td>Medium</td>\n",
       "    </tr>\n",
       "    <tr>\n",
       "      <th>...</th>\n",
       "      <td>...</td>\n",
       "      <td>...</td>\n",
       "      <td>...</td>\n",
       "      <td>...</td>\n",
       "      <td>...</td>\n",
       "    </tr>\n",
       "    <tr>\n",
       "      <th>8978</th>\n",
       "      <td>West Bank and Gaza</td>\n",
       "      <td>2014</td>\n",
       "      <td>5967.073437</td>\n",
       "      <td>NaN</td>\n",
       "      <td>Low</td>\n",
       "    </tr>\n",
       "    <tr>\n",
       "      <th>9011</th>\n",
       "      <td>World</td>\n",
       "      <td>2014</td>\n",
       "      <td>15120.730322</td>\n",
       "      <td>NaN</td>\n",
       "      <td>Medium</td>\n",
       "    </tr>\n",
       "    <tr>\n",
       "      <th>9039</th>\n",
       "      <td>Yemen</td>\n",
       "      <td>2014</td>\n",
       "      <td>NaN</td>\n",
       "      <td>22.5500</td>\n",
       "      <td>NaN</td>\n",
       "    </tr>\n",
       "    <tr>\n",
       "      <th>9070</th>\n",
       "      <td>Zambia</td>\n",
       "      <td>2014</td>\n",
       "      <td>3375.941270</td>\n",
       "      <td>6.5000</td>\n",
       "      <td>Low</td>\n",
       "    </tr>\n",
       "    <tr>\n",
       "      <th>9103</th>\n",
       "      <td>Zimbabwe</td>\n",
       "      <td>2014</td>\n",
       "      <td>2316.954536</td>\n",
       "      <td>16.3647</td>\n",
       "      <td>Low</td>\n",
       "    </tr>\n",
       "  </tbody>\n",
       "</table>\n",
       "<p>284 rows × 5 columns</p>\n",
       "</div>"
      ],
      "text/plain": [
       "                          Country  Year  GDP_Per_Capita  Inter_Users_Pct  \\\n",
       "14                    Afghanistan  2014     2144.449634           7.0000   \n",
       "46    Africa Eastern and Southern  2014     3642.875373              NaN   \n",
       "79     Africa Western and Central  2014     4146.994622              NaN   \n",
       "112                       Albania  2014    11586.817446          54.3000   \n",
       "145                       Algeria  2014    11561.259795          29.5000   \n",
       "...                           ...   ...             ...              ...   \n",
       "8978           West Bank and Gaza  2014     5967.073437              NaN   \n",
       "9011                        World  2014    15120.730322              NaN   \n",
       "9039                        Yemen  2014             NaN          22.5500   \n",
       "9070                       Zambia  2014     3375.941270           6.5000   \n",
       "9103                     Zimbabwe  2014     2316.954536          16.3647   \n",
       "\n",
       "     GDP_group  \n",
       "14         Low  \n",
       "46         Low  \n",
       "79         Low  \n",
       "112     Medium  \n",
       "145     Medium  \n",
       "...        ...  \n",
       "8978       Low  \n",
       "9011    Medium  \n",
       "9039       NaN  \n",
       "9070       Low  \n",
       "9103       Low  \n",
       "\n",
       "[284 rows x 5 columns]"
      ]
     },
     "execution_count": 76,
     "metadata": {},
     "output_type": "execute_result"
    }
   ],
   "source": [
    "gdp_per_capita_2014 = gdp_and_internet_use[gdp_and_internet_use[\"Year\"]==2014]\n",
    "gdp_per_capita_2014.insert(4,\"GDP_group\", pd.qcut(gdp_per_capita_2014[\"GDP_Per_Capita\"],3,labels=[\"Low\",\"Medium\",\"High\"]))\n",
    "gdp_per_capita_2014"
   ]
  },
  {
   "cell_type": "markdown",
   "id": "f13a539e-83a3-4fd7-95ec-43ea0e9663c3",
   "metadata": {},
   "source": [
    "## #25. **Stretch Question:** How does the median internet users percentage compare for the three gdp groups?"
   ]
  },
  {
   "cell_type": "code",
   "execution_count": 78,
   "id": "82dfea1e-c527-4d59-957f-61a35318eb7d",
   "metadata": {},
   "outputs": [
    {
     "data": {
      "text/plain": [
       "<Axes: xlabel='GDP_group', ylabel='Inter_Users_Pct'>"
      ]
     },
     "execution_count": 78,
     "metadata": {},
     "output_type": "execute_result"
    },
    {
     "data": {
      "image/png": "[encoded data removed]",
      "text/plain": [
       "<Figure size 640x480 with 1 Axes>"
      ]
     },
     "metadata": {},
     "output_type": "display_data"
    }
   ],
   "source": [
    "sns.boxplot(gdp_per_capita_2014, x=\"GDP_group\", y=\"Inter_Users_Pct\")"
   ]
  },
  {
   "cell_type": "markdown",
   "id": "27e0f040-9d86-484f-8255-f93afed14797",
   "metadata": {},
   "source": [
    "The median Inter_Users_Pct for the three groups seems to scale directly with GDP_Per_Capita."
   ]
  },
  {
   "cell_type": "markdown",
   "id": "b8e211c4-39d5-4c43-a380-7d354a00bca2",
   "metadata": {},
   "source": [
    "### Bonus exercise:\n",
    "1.    Download another data set from the UN data (http://data.un.org/Explorer.aspx) to merge with your data and explore."
   ]
  },
  {
   "cell_type": "code",
   "execution_count": 81,
   "id": "80134dc9-12a4-445a-82ff-249dc46e325f",
   "metadata": {},
   "outputs": [
    {
     "data": {
      "text/html": [
       "<div>\n",
       "<style scoped>\n",
       "    .dataframe tbody tr th:only-of-type {\n",
       "        vertical-align: middle;\n",
       "    }\n",
       "\n",
       "    .dataframe tbody tr th {\n",
       "        vertical-align: top;\n",
       "    }\n",
       "\n",
       "    .dataframe thead th {\n",
       "        text-align: right;\n",
       "    }\n",
       "</style>\n",
       "<table border=\"1\" class=\"dataframe\">\n",
       "  <thead>\n",
       "    <tr style=\"text-align: right;\">\n",
       "      <th></th>\n",
       "      <th>Country</th>\n",
       "      <th>Year</th>\n",
       "      <th>Greenhouse_Emissions</th>\n",
       "    </tr>\n",
       "  </thead>\n",
       "  <tbody>\n",
       "    <tr>\n",
       "      <th>0</th>\n",
       "      <td>Australia</td>\n",
       "      <td>2020</td>\n",
       "      <td>4.003335e+05</td>\n",
       "    </tr>\n",
       "    <tr>\n",
       "      <th>1</th>\n",
       "      <td>Australia</td>\n",
       "      <td>2019</td>\n",
       "      <td>4.167619e+05</td>\n",
       "    </tr>\n",
       "    <tr>\n",
       "      <th>2</th>\n",
       "      <td>Australia</td>\n",
       "      <td>2018</td>\n",
       "      <td>4.162838e+05</td>\n",
       "    </tr>\n",
       "    <tr>\n",
       "      <th>3</th>\n",
       "      <td>Australia</td>\n",
       "      <td>2017</td>\n",
       "      <td>4.143583e+05</td>\n",
       "    </tr>\n",
       "    <tr>\n",
       "      <th>4</th>\n",
       "      <td>Australia</td>\n",
       "      <td>2016</td>\n",
       "      <td>4.112643e+05</td>\n",
       "    </tr>\n",
       "    <tr>\n",
       "      <th>...</th>\n",
       "      <td>...</td>\n",
       "      <td>...</td>\n",
       "      <td>...</td>\n",
       "    </tr>\n",
       "    <tr>\n",
       "      <th>1370</th>\n",
       "      <td>United States</td>\n",
       "      <td>1994</td>\n",
       "      <td>5.364279e+06</td>\n",
       "    </tr>\n",
       "    <tr>\n",
       "      <th>1371</th>\n",
       "      <td>United States</td>\n",
       "      <td>1993</td>\n",
       "      <td>5.272851e+06</td>\n",
       "    </tr>\n",
       "    <tr>\n",
       "      <th>1372</th>\n",
       "      <td>United States</td>\n",
       "      <td>1992</td>\n",
       "      <td>5.174228e+06</td>\n",
       "    </tr>\n",
       "    <tr>\n",
       "      <th>1373</th>\n",
       "      <td>United States</td>\n",
       "      <td>1991</td>\n",
       "      <td>5.062957e+06</td>\n",
       "    </tr>\n",
       "    <tr>\n",
       "      <th>1374</th>\n",
       "      <td>United States</td>\n",
       "      <td>1990</td>\n",
       "      <td>5.120957e+06</td>\n",
       "    </tr>\n",
       "  </tbody>\n",
       "</table>\n",
       "<p>1375 rows × 3 columns</p>\n",
       "</div>"
      ],
      "text/plain": [
       "            Country  Year  Greenhouse_Emissions\n",
       "0         Australia  2020          4.003335e+05\n",
       "1         Australia  2019          4.167619e+05\n",
       "2         Australia  2018          4.162838e+05\n",
       "3         Australia  2017          4.143583e+05\n",
       "4         Australia  2016          4.112643e+05\n",
       "...             ...   ...                   ...\n",
       "1370  United States  1994          5.364279e+06\n",
       "1371  United States  1993          5.272851e+06\n",
       "1372  United States  1992          5.174228e+06\n",
       "1373  United States  1991          5.062957e+06\n",
       "1374  United States  1990          5.120957e+06\n",
       "\n",
       "[1375 rows x 3 columns]"
      ]
     },
     "execution_count": 81,
     "metadata": {},
     "output_type": "execute_result"
    }
   ],
   "source": [
    "greenhouse_df = pd.read_csv('../data/greenhouse_emission.csv')\n",
    "greenhouse_df.rename(columns={\"Country or Area\" : \"Country\", \"Value\":\"Greenhouse_Emissions\"},inplace=True)\n",
    "greenhouse_df"
   ]
  },
  {
   "cell_type": "code",
   "execution_count": 154,
   "id": "b5647e8e-9d31-4536-b152-f1d910b2c213",
   "metadata": {},
   "outputs": [
    {
     "data": {
      "text/html": [
       "<div>\n",
       "<style scoped>\n",
       "    .dataframe tbody tr th:only-of-type {\n",
       "        vertical-align: middle;\n",
       "    }\n",
       "\n",
       "    .dataframe tbody tr th {\n",
       "        vertical-align: top;\n",
       "    }\n",
       "\n",
       "    .dataframe thead th {\n",
       "        text-align: right;\n",
       "    }\n",
       "</style>\n",
       "<table border=\"1\" class=\"dataframe\">\n",
       "  <thead>\n",
       "    <tr style=\"text-align: right;\">\n",
       "      <th></th>\n",
       "      <th>Country</th>\n",
       "      <th>Year</th>\n",
       "      <th>GDP_Per_Capita</th>\n",
       "      <th>Inter_Users_Pct</th>\n",
       "      <th>Greenhouse_Emissions</th>\n",
       "    </tr>\n",
       "  </thead>\n",
       "  <tbody>\n",
       "    <tr>\n",
       "      <th>0</th>\n",
       "      <td>Afghanistan</td>\n",
       "      <td>1990</td>\n",
       "      <td>NaN</td>\n",
       "      <td>0.000000</td>\n",
       "      <td>NaN</td>\n",
       "    </tr>\n",
       "    <tr>\n",
       "      <th>1</th>\n",
       "      <td>Afghanistan</td>\n",
       "      <td>2001</td>\n",
       "      <td>NaN</td>\n",
       "      <td>0.004723</td>\n",
       "      <td>NaN</td>\n",
       "    </tr>\n",
       "    <tr>\n",
       "      <th>2</th>\n",
       "      <td>Afghanistan</td>\n",
       "      <td>2002</td>\n",
       "      <td>1280.463171</td>\n",
       "      <td>0.004561</td>\n",
       "      <td>NaN</td>\n",
       "    </tr>\n",
       "    <tr>\n",
       "      <th>3</th>\n",
       "      <td>Afghanistan</td>\n",
       "      <td>2003</td>\n",
       "      <td>1292.333437</td>\n",
       "      <td>0.087891</td>\n",
       "      <td>NaN</td>\n",
       "    </tr>\n",
       "    <tr>\n",
       "      <th>4</th>\n",
       "      <td>Afghanistan</td>\n",
       "      <td>2004</td>\n",
       "      <td>1260.060581</td>\n",
       "      <td>0.105809</td>\n",
       "      <td>NaN</td>\n",
       "    </tr>\n",
       "    <tr>\n",
       "      <th>...</th>\n",
       "      <td>...</td>\n",
       "      <td>...</td>\n",
       "      <td>...</td>\n",
       "      <td>...</td>\n",
       "      <td>...</td>\n",
       "    </tr>\n",
       "    <tr>\n",
       "      <th>9112</th>\n",
       "      <td>Zimbabwe</td>\n",
       "      <td>2018</td>\n",
       "      <td>2399.621551</td>\n",
       "      <td>25.000000</td>\n",
       "      <td>NaN</td>\n",
       "    </tr>\n",
       "    <tr>\n",
       "      <th>9113</th>\n",
       "      <td>Zimbabwe</td>\n",
       "      <td>2019</td>\n",
       "      <td>2203.396810</td>\n",
       "      <td>26.588300</td>\n",
       "      <td>NaN</td>\n",
       "    </tr>\n",
       "    <tr>\n",
       "      <th>9114</th>\n",
       "      <td>Zimbabwe</td>\n",
       "      <td>2020</td>\n",
       "      <td>1990.319419</td>\n",
       "      <td>29.298600</td>\n",
       "      <td>NaN</td>\n",
       "    </tr>\n",
       "    <tr>\n",
       "      <th>9115</th>\n",
       "      <td>Zimbabwe</td>\n",
       "      <td>2021</td>\n",
       "      <td>2115.144555</td>\n",
       "      <td>32.461600</td>\n",
       "      <td>NaN</td>\n",
       "    </tr>\n",
       "    <tr>\n",
       "      <th>9116</th>\n",
       "      <td>Zimbabwe</td>\n",
       "      <td>2022</td>\n",
       "      <td>2143.237574</td>\n",
       "      <td>32.561500</td>\n",
       "      <td>NaN</td>\n",
       "    </tr>\n",
       "  </tbody>\n",
       "</table>\n",
       "<p>9117 rows × 5 columns</p>\n",
       "</div>"
      ],
      "text/plain": [
       "          Country  Year  GDP_Per_Capita  Inter_Users_Pct  Greenhouse_Emissions\n",
       "0     Afghanistan  1990             NaN         0.000000                   NaN\n",
       "1     Afghanistan  2001             NaN         0.004723                   NaN\n",
       "2     Afghanistan  2002     1280.463171         0.004561                   NaN\n",
       "3     Afghanistan  2003     1292.333437         0.087891                   NaN\n",
       "4     Afghanistan  2004     1260.060581         0.105809                   NaN\n",
       "...           ...   ...             ...              ...                   ...\n",
       "9112     Zimbabwe  2018     2399.621551        25.000000                   NaN\n",
       "9113     Zimbabwe  2019     2203.396810        26.588300                   NaN\n",
       "9114     Zimbabwe  2020     1990.319419        29.298600                   NaN\n",
       "9115     Zimbabwe  2021     2115.144555        32.461600                   NaN\n",
       "9116     Zimbabwe  2022     2143.237574        32.561500                   NaN\n",
       "\n",
       "[9117 rows x 5 columns]"
      ]
     },
     "execution_count": 154,
     "metadata": {},
     "output_type": "execute_result"
    }
   ],
   "source": [
    "gdp_internet_greenhouse = gdp_and_internet_use.merge(greenhouse_df, how=\"outer\",on=[\"Country\",\"Year\"])\n",
    "gdp_internet_greenhouse"
   ]
  },
  {
   "cell_type": "code",
   "execution_count": 83,
   "id": "70da80a5-3efd-447d-b9d0-685403bf4791",
   "metadata": {},
   "outputs": [
    {
     "data": {
      "text/html": [
       "<div>\n",
       "<style scoped>\n",
       "    .dataframe tbody tr th:only-of-type {\n",
       "        vertical-align: middle;\n",
       "    }\n",
       "\n",
       "    .dataframe tbody tr th {\n",
       "        vertical-align: top;\n",
       "    }\n",
       "\n",
       "    .dataframe thead th {\n",
       "        text-align: right;\n",
       "    }\n",
       "</style>\n",
       "<table border=\"1\" class=\"dataframe\">\n",
       "  <thead>\n",
       "    <tr style=\"text-align: right;\">\n",
       "      <th></th>\n",
       "      <th>Country</th>\n",
       "      <th>Year</th>\n",
       "      <th>GDP_Per_Capita</th>\n",
       "      <th>Inter_Users_Pct</th>\n",
       "      <th>Greenhouse_Emissions</th>\n",
       "    </tr>\n",
       "  </thead>\n",
       "  <tbody>\n",
       "    <tr>\n",
       "      <th>8742</th>\n",
       "      <td>United States</td>\n",
       "      <td>2005</td>\n",
       "      <td>54331.658336</td>\n",
       "      <td>67.9681</td>\n",
       "      <td>6132183.270</td>\n",
       "    </tr>\n",
       "    <tr>\n",
       "      <th>8744</th>\n",
       "      <td>United States</td>\n",
       "      <td>2007</td>\n",
       "      <td>55885.646174</td>\n",
       "      <td>75.0000</td>\n",
       "      <td>6130122.760</td>\n",
       "    </tr>\n",
       "    <tr>\n",
       "      <th>8741</th>\n",
       "      <td>United States</td>\n",
       "      <td>2004</td>\n",
       "      <td>52989.030694</td>\n",
       "      <td>64.7583</td>\n",
       "      <td>6112654.584</td>\n",
       "    </tr>\n",
       "    <tr>\n",
       "      <th>8743</th>\n",
       "      <td>United States</td>\n",
       "      <td>2006</td>\n",
       "      <td>55307.719149</td>\n",
       "      <td>68.9312</td>\n",
       "      <td>6052686.215</td>\n",
       "    </tr>\n",
       "    <tr>\n",
       "      <th>8740</th>\n",
       "      <td>United States</td>\n",
       "      <td>2003</td>\n",
       "      <td>51497.734688</td>\n",
       "      <td>61.6971</td>\n",
       "      <td>6010145.463</td>\n",
       "    </tr>\n",
       "    <tr>\n",
       "      <th>8737</th>\n",
       "      <td>United States</td>\n",
       "      <td>2000</td>\n",
       "      <td>50169.856362</td>\n",
       "      <td>43.0792</td>\n",
       "      <td>6010135.928</td>\n",
       "    </tr>\n",
       "    <tr>\n",
       "      <th>8739</th>\n",
       "      <td>United States</td>\n",
       "      <td>2002</td>\n",
       "      <td>50529.349582</td>\n",
       "      <td>58.7854</td>\n",
       "      <td>5946308.145</td>\n",
       "    </tr>\n",
       "    <tr>\n",
       "      <th>8745</th>\n",
       "      <td>United States</td>\n",
       "      <td>2008</td>\n",
       "      <td>55427.178273</td>\n",
       "      <td>74.0000</td>\n",
       "      <td>5915118.465</td>\n",
       "    </tr>\n",
       "    <tr>\n",
       "      <th>8738</th>\n",
       "      <td>United States</td>\n",
       "      <td>2001</td>\n",
       "      <td>50149.828692</td>\n",
       "      <td>49.0808</td>\n",
       "      <td>5907739.935</td>\n",
       "    </tr>\n",
       "    <tr>\n",
       "      <th>8736</th>\n",
       "      <td>United States</td>\n",
       "      <td>1999</td>\n",
       "      <td>48743.882837</td>\n",
       "      <td>35.8487</td>\n",
       "      <td>5803917.834</td>\n",
       "    </tr>\n",
       "  </tbody>\n",
       "</table>\n",
       "</div>"
      ],
      "text/plain": [
       "            Country  Year  GDP_Per_Capita  Inter_Users_Pct  \\\n",
       "8742  United States  2005    54331.658336          67.9681   \n",
       "8744  United States  2007    55885.646174          75.0000   \n",
       "8741  United States  2004    52989.030694          64.7583   \n",
       "8743  United States  2006    55307.719149          68.9312   \n",
       "8740  United States  2003    51497.734688          61.6971   \n",
       "8737  United States  2000    50169.856362          43.0792   \n",
       "8739  United States  2002    50529.349582          58.7854   \n",
       "8745  United States  2008    55427.178273          74.0000   \n",
       "8738  United States  2001    50149.828692          49.0808   \n",
       "8736  United States  1999    48743.882837          35.8487   \n",
       "\n",
       "      Greenhouse_Emissions  \n",
       "8742           6132183.270  \n",
       "8744           6130122.760  \n",
       "8741           6112654.584  \n",
       "8743           6052686.215  \n",
       "8740           6010145.463  \n",
       "8737           6010135.928  \n",
       "8739           5946308.145  \n",
       "8745           5915118.465  \n",
       "8738           5907739.935  \n",
       "8736           5803917.834  "
      ]
     },
     "execution_count": 83,
     "metadata": {},
     "output_type": "execute_result"
    }
   ],
   "source": [
    "gdp_internet_greenhouse.nlargest(10,\"Greenhouse_Emissions\")"
   ]
  },
  {
   "cell_type": "code",
   "execution_count": 84,
   "id": "72c169c2-ff21-4803-8b16-abeed8a894b9",
   "metadata": {},
   "outputs": [
    {
     "data": {
      "text/plain": [
       "<Axes: xlabel='Year', ylabel='Greenhouse_Emissions'>"
      ]
     },
     "execution_count": 84,
     "metadata": {},
     "output_type": "execute_result"
    },
    {
     "data": {
      "image/png": "[encoded data removed]",
      "text/plain": [
       "<Figure size 640x480 with 1 Axes>"
      ]
     },
     "metadata": {},
     "output_type": "display_data"
    }
   ],
   "source": [
    "freedom_df = gdp_internet_greenhouse[gdp_internet_greenhouse[\"Country\"]==\"United States\"]\n",
    "sns.lineplot(freedom_df,x=\"Year\",y=\"Greenhouse_Emissions\")"
   ]
  },
  {
   "cell_type": "code",
   "execution_count": 85,
   "id": "f022ce4d-c24d-4569-88e6-a38ae2dcdf1a",
   "metadata": {},
   "outputs": [
    {
     "data": {
      "text/html": [
       "<div>\n",
       "<style scoped>\n",
       "    .dataframe tbody tr th:only-of-type {\n",
       "        vertical-align: middle;\n",
       "    }\n",
       "\n",
       "    .dataframe tbody tr th {\n",
       "        vertical-align: top;\n",
       "    }\n",
       "\n",
       "    .dataframe thead th {\n",
       "        text-align: right;\n",
       "    }\n",
       "</style>\n",
       "<table border=\"1\" class=\"dataframe\">\n",
       "  <thead>\n",
       "    <tr style=\"text-align: right;\">\n",
       "      <th></th>\n",
       "      <th>Country</th>\n",
       "      <th>Year</th>\n",
       "      <th>GDP_Per_Capita</th>\n",
       "      <th>Inter_Users_Pct</th>\n",
       "      <th>Greenhouse_Emissions</th>\n",
       "      <th>GDP_1e3</th>\n",
       "      <th>Greenhouse_1e5</th>\n",
       "    </tr>\n",
       "  </thead>\n",
       "  <tbody>\n",
       "    <tr>\n",
       "      <th>8727</th>\n",
       "      <td>United States</td>\n",
       "      <td>1990</td>\n",
       "      <td>40451.498405</td>\n",
       "      <td>0.784729</td>\n",
       "      <td>5120957.207</td>\n",
       "      <td>40.451498</td>\n",
       "      <td>51.209572</td>\n",
       "    </tr>\n",
       "    <tr>\n",
       "      <th>8728</th>\n",
       "      <td>United States</td>\n",
       "      <td>1991</td>\n",
       "      <td>39871.342964</td>\n",
       "      <td>1.163190</td>\n",
       "      <td>5062956.718</td>\n",
       "      <td>39.871343</td>\n",
       "      <td>50.629567</td>\n",
       "    </tr>\n",
       "    <tr>\n",
       "      <th>8729</th>\n",
       "      <td>United States</td>\n",
       "      <td>1992</td>\n",
       "      <td>40707.290631</td>\n",
       "      <td>1.724200</td>\n",
       "      <td>5174227.507</td>\n",
       "      <td>40.707291</td>\n",
       "      <td>51.742275</td>\n",
       "    </tr>\n",
       "    <tr>\n",
       "      <th>8730</th>\n",
       "      <td>United States</td>\n",
       "      <td>1993</td>\n",
       "      <td>41279.516502</td>\n",
       "      <td>2.271670</td>\n",
       "      <td>5272850.808</td>\n",
       "      <td>41.279517</td>\n",
       "      <td>52.728508</td>\n",
       "    </tr>\n",
       "    <tr>\n",
       "      <th>8731</th>\n",
       "      <td>United States</td>\n",
       "      <td>1994</td>\n",
       "      <td>42419.195365</td>\n",
       "      <td>4.862780</td>\n",
       "      <td>5364279.285</td>\n",
       "      <td>42.419195</td>\n",
       "      <td>53.642793</td>\n",
       "    </tr>\n",
       "    <tr>\n",
       "      <th>8732</th>\n",
       "      <td>United States</td>\n",
       "      <td>1995</td>\n",
       "      <td>43042.213822</td>\n",
       "      <td>9.237090</td>\n",
       "      <td>5425259.696</td>\n",
       "      <td>43.042214</td>\n",
       "      <td>54.252597</td>\n",
       "    </tr>\n",
       "    <tr>\n",
       "      <th>8733</th>\n",
       "      <td>United States</td>\n",
       "      <td>1996</td>\n",
       "      <td>44149.371129</td>\n",
       "      <td>16.419400</td>\n",
       "      <td>5612982.752</td>\n",
       "      <td>44.149371</td>\n",
       "      <td>56.129828</td>\n",
       "    </tr>\n",
       "    <tr>\n",
       "      <th>8734</th>\n",
       "      <td>United States</td>\n",
       "      <td>1997</td>\n",
       "      <td>45560.920145</td>\n",
       "      <td>21.616400</td>\n",
       "      <td>5688142.511</td>\n",
       "      <td>45.560920</td>\n",
       "      <td>56.881425</td>\n",
       "    </tr>\n",
       "    <tr>\n",
       "      <th>8735</th>\n",
       "      <td>United States</td>\n",
       "      <td>1998</td>\n",
       "      <td>47050.995083</td>\n",
       "      <td>30.093200</td>\n",
       "      <td>5733280.550</td>\n",
       "      <td>47.050995</td>\n",
       "      <td>57.332805</td>\n",
       "    </tr>\n",
       "    <tr>\n",
       "      <th>8736</th>\n",
       "      <td>United States</td>\n",
       "      <td>1999</td>\n",
       "      <td>48743.882837</td>\n",
       "      <td>35.848700</td>\n",
       "      <td>5803917.834</td>\n",
       "      <td>48.743883</td>\n",
       "      <td>58.039178</td>\n",
       "    </tr>\n",
       "    <tr>\n",
       "      <th>8737</th>\n",
       "      <td>United States</td>\n",
       "      <td>2000</td>\n",
       "      <td>50169.856362</td>\n",
       "      <td>43.079200</td>\n",
       "      <td>6010135.928</td>\n",
       "      <td>50.169856</td>\n",
       "      <td>60.101359</td>\n",
       "    </tr>\n",
       "    <tr>\n",
       "      <th>8738</th>\n",
       "      <td>United States</td>\n",
       "      <td>2001</td>\n",
       "      <td>50149.828692</td>\n",
       "      <td>49.080800</td>\n",
       "      <td>5907739.935</td>\n",
       "      <td>50.149829</td>\n",
       "      <td>59.077399</td>\n",
       "    </tr>\n",
       "    <tr>\n",
       "      <th>8739</th>\n",
       "      <td>United States</td>\n",
       "      <td>2002</td>\n",
       "      <td>50529.349582</td>\n",
       "      <td>58.785400</td>\n",
       "      <td>5946308.145</td>\n",
       "      <td>50.529350</td>\n",
       "      <td>59.463081</td>\n",
       "    </tr>\n",
       "    <tr>\n",
       "      <th>8740</th>\n",
       "      <td>United States</td>\n",
       "      <td>2003</td>\n",
       "      <td>51497.734688</td>\n",
       "      <td>61.697100</td>\n",
       "      <td>6010145.463</td>\n",
       "      <td>51.497735</td>\n",
       "      <td>60.101455</td>\n",
       "    </tr>\n",
       "    <tr>\n",
       "      <th>8741</th>\n",
       "      <td>United States</td>\n",
       "      <td>2004</td>\n",
       "      <td>52989.030694</td>\n",
       "      <td>64.758300</td>\n",
       "      <td>6112654.584</td>\n",
       "      <td>52.989031</td>\n",
       "      <td>61.126546</td>\n",
       "    </tr>\n",
       "    <tr>\n",
       "      <th>8742</th>\n",
       "      <td>United States</td>\n",
       "      <td>2005</td>\n",
       "      <td>54331.658336</td>\n",
       "      <td>67.968100</td>\n",
       "      <td>6132183.270</td>\n",
       "      <td>54.331658</td>\n",
       "      <td>61.321833</td>\n",
       "    </tr>\n",
       "    <tr>\n",
       "      <th>8743</th>\n",
       "      <td>United States</td>\n",
       "      <td>2006</td>\n",
       "      <td>55307.719149</td>\n",
       "      <td>68.931200</td>\n",
       "      <td>6052686.215</td>\n",
       "      <td>55.307719</td>\n",
       "      <td>60.526862</td>\n",
       "    </tr>\n",
       "    <tr>\n",
       "      <th>8744</th>\n",
       "      <td>United States</td>\n",
       "      <td>2007</td>\n",
       "      <td>55885.646174</td>\n",
       "      <td>75.000000</td>\n",
       "      <td>6130122.760</td>\n",
       "      <td>55.885646</td>\n",
       "      <td>61.301228</td>\n",
       "    </tr>\n",
       "    <tr>\n",
       "      <th>8745</th>\n",
       "      <td>United States</td>\n",
       "      <td>2008</td>\n",
       "      <td>55427.178273</td>\n",
       "      <td>74.000000</td>\n",
       "      <td>5915118.465</td>\n",
       "      <td>55.427178</td>\n",
       "      <td>59.151185</td>\n",
       "    </tr>\n",
       "    <tr>\n",
       "      <th>8746</th>\n",
       "      <td>United States</td>\n",
       "      <td>2009</td>\n",
       "      <td>53514.931797</td>\n",
       "      <td>71.000000</td>\n",
       "      <td>5480725.731</td>\n",
       "      <td>53.514932</td>\n",
       "      <td>54.807257</td>\n",
       "    </tr>\n",
       "    <tr>\n",
       "      <th>8747</th>\n",
       "      <td>United States</td>\n",
       "      <td>2010</td>\n",
       "      <td>54510.465620</td>\n",
       "      <td>71.690000</td>\n",
       "      <td>5679715.249</td>\n",
       "      <td>54.510466</td>\n",
       "      <td>56.797152</td>\n",
       "    </tr>\n",
       "    <tr>\n",
       "      <th>8748</th>\n",
       "      <td>United States</td>\n",
       "      <td>2011</td>\n",
       "      <td>54954.463914</td>\n",
       "      <td>69.729500</td>\n",
       "      <td>5546116.067</td>\n",
       "      <td>54.954464</td>\n",
       "      <td>55.461161</td>\n",
       "    </tr>\n",
       "    <tr>\n",
       "      <th>8749</th>\n",
       "      <td>United States</td>\n",
       "      <td>2012</td>\n",
       "      <td>55796.971919</td>\n",
       "      <td>74.700000</td>\n",
       "      <td>5344085.980</td>\n",
       "      <td>55.796972</td>\n",
       "      <td>53.440860</td>\n",
       "    </tr>\n",
       "    <tr>\n",
       "      <th>8750</th>\n",
       "      <td>United States</td>\n",
       "      <td>2013</td>\n",
       "      <td>56432.327768</td>\n",
       "      <td>71.400000</td>\n",
       "      <td>5480156.537</td>\n",
       "      <td>56.432328</td>\n",
       "      <td>54.801565</td>\n",
       "    </tr>\n",
       "    <tr>\n",
       "      <th>8751</th>\n",
       "      <td>United States</td>\n",
       "      <td>2014</td>\n",
       "      <td>57301.600424</td>\n",
       "      <td>73.000000</td>\n",
       "      <td>5528681.067</td>\n",
       "      <td>57.301600</td>\n",
       "      <td>55.286811</td>\n",
       "    </tr>\n",
       "    <tr>\n",
       "      <th>8752</th>\n",
       "      <td>United States</td>\n",
       "      <td>2015</td>\n",
       "      <td>58420.703040</td>\n",
       "      <td>74.554200</td>\n",
       "      <td>5376473.125</td>\n",
       "      <td>58.420703</td>\n",
       "      <td>53.764731</td>\n",
       "    </tr>\n",
       "    <tr>\n",
       "      <th>8753</th>\n",
       "      <td>United States</td>\n",
       "      <td>2016</td>\n",
       "      <td>58965.987489</td>\n",
       "      <td>85.544400</td>\n",
       "      <td>5252932.175</td>\n",
       "      <td>58.965987</td>\n",
       "      <td>52.529322</td>\n",
       "    </tr>\n",
       "    <tr>\n",
       "      <th>8754</th>\n",
       "      <td>United States</td>\n",
       "      <td>2017</td>\n",
       "      <td>59907.754261</td>\n",
       "      <td>87.274900</td>\n",
       "      <td>5212162.345</td>\n",
       "      <td>59.907754</td>\n",
       "      <td>52.121623</td>\n",
       "    </tr>\n",
       "    <tr>\n",
       "      <th>8755</th>\n",
       "      <td>United States</td>\n",
       "      <td>2018</td>\n",
       "      <td>61348.456596</td>\n",
       "      <td>88.498900</td>\n",
       "      <td>5377797.353</td>\n",
       "      <td>61.348457</td>\n",
       "      <td>53.777974</td>\n",
       "    </tr>\n",
       "    <tr>\n",
       "      <th>8756</th>\n",
       "      <td>United States</td>\n",
       "      <td>2019</td>\n",
       "      <td>62470.929913</td>\n",
       "      <td>89.430300</td>\n",
       "      <td>5262145.074</td>\n",
       "      <td>62.470930</td>\n",
       "      <td>52.621451</td>\n",
       "    </tr>\n",
       "    <tr>\n",
       "      <th>8757</th>\n",
       "      <td>United States</td>\n",
       "      <td>2020</td>\n",
       "      <td>60158.910453</td>\n",
       "      <td>96.576800</td>\n",
       "      <td>4714628.032</td>\n",
       "      <td>60.158910</td>\n",
       "      <td>47.146280</td>\n",
       "    </tr>\n",
       "    <tr>\n",
       "      <th>8758</th>\n",
       "      <td>United States</td>\n",
       "      <td>2021</td>\n",
       "      <td>63635.823810</td>\n",
       "      <td>96.779200</td>\n",
       "      <td>5032212.819</td>\n",
       "      <td>63.635824</td>\n",
       "      <td>50.322128</td>\n",
       "    </tr>\n",
       "    <tr>\n",
       "      <th>8759</th>\n",
       "      <td>United States</td>\n",
       "      <td>2022</td>\n",
       "      <td>64702.978311</td>\n",
       "      <td>97.129900</td>\n",
       "      <td>NaN</td>\n",
       "      <td>64.702978</td>\n",
       "      <td>NaN</td>\n",
       "    </tr>\n",
       "  </tbody>\n",
       "</table>\n",
       "</div>"
      ],
      "text/plain": [
       "            Country  Year  GDP_Per_Capita  Inter_Users_Pct  \\\n",
       "8727  United States  1990    40451.498405         0.784729   \n",
       "8728  United States  1991    39871.342964         1.163190   \n",
       "8729  United States  1992    40707.290631         1.724200   \n",
       "8730  United States  1993    41279.516502         2.271670   \n",
       "8731  United States  1994    42419.195365         4.862780   \n",
       "8732  United States  1995    43042.213822         9.237090   \n",
       "8733  United States  1996    44149.371129        16.419400   \n",
       "8734  United States  1997    45560.920145        21.616400   \n",
       "8735  United States  1998    47050.995083        30.093200   \n",
       "8736  United States  1999    48743.882837        35.848700   \n",
       "8737  United States  2000    50169.856362        43.079200   \n",
       "8738  United States  2001    50149.828692        49.080800   \n",
       "8739  United States  2002    50529.349582        58.785400   \n",
       "8740  United States  2003    51497.734688        61.697100   \n",
       "8741  United States  2004    52989.030694        64.758300   \n",
       "8742  United States  2005    54331.658336        67.968100   \n",
       "8743  United States  2006    55307.719149        68.931200   \n",
       "8744  United States  2007    55885.646174        75.000000   \n",
       "8745  United States  2008    55427.178273        74.000000   \n",
       "8746  United States  2009    53514.931797        71.000000   \n",
       "8747  United States  2010    54510.465620        71.690000   \n",
       "8748  United States  2011    54954.463914        69.729500   \n",
       "8749  United States  2012    55796.971919        74.700000   \n",
       "8750  United States  2013    56432.327768        71.400000   \n",
       "8751  United States  2014    57301.600424        73.000000   \n",
       "8752  United States  2015    58420.703040        74.554200   \n",
       "8753  United States  2016    58965.987489        85.544400   \n",
       "8754  United States  2017    59907.754261        87.274900   \n",
       "8755  United States  2018    61348.456596        88.498900   \n",
       "8756  United States  2019    62470.929913        89.430300   \n",
       "8757  United States  2020    60158.910453        96.576800   \n",
       "8758  United States  2021    63635.823810        96.779200   \n",
       "8759  United States  2022    64702.978311        97.129900   \n",
       "\n",
       "      Greenhouse_Emissions    GDP_1e3  Greenhouse_1e5  \n",
       "8727           5120957.207  40.451498       51.209572  \n",
       "8728           5062956.718  39.871343       50.629567  \n",
       "8729           5174227.507  40.707291       51.742275  \n",
       "8730           5272850.808  41.279517       52.728508  \n",
       "8731           5364279.285  42.419195       53.642793  \n",
       "8732           5425259.696  43.042214       54.252597  \n",
       "8733           5612982.752  44.149371       56.129828  \n",
       "8734           5688142.511  45.560920       56.881425  \n",
       "8735           5733280.550  47.050995       57.332805  \n",
       "8736           5803917.834  48.743883       58.039178  \n",
       "8737           6010135.928  50.169856       60.101359  \n",
       "8738           5907739.935  50.149829       59.077399  \n",
       "8739           5946308.145  50.529350       59.463081  \n",
       "8740           6010145.463  51.497735       60.101455  \n",
       "8741           6112654.584  52.989031       61.126546  \n",
       "8742           6132183.270  54.331658       61.321833  \n",
       "8743           6052686.215  55.307719       60.526862  \n",
       "8744           6130122.760  55.885646       61.301228  \n",
       "8745           5915118.465  55.427178       59.151185  \n",
       "8746           5480725.731  53.514932       54.807257  \n",
       "8747           5679715.249  54.510466       56.797152  \n",
       "8748           5546116.067  54.954464       55.461161  \n",
       "8749           5344085.980  55.796972       53.440860  \n",
       "8750           5480156.537  56.432328       54.801565  \n",
       "8751           5528681.067  57.301600       55.286811  \n",
       "8752           5376473.125  58.420703       53.764731  \n",
       "8753           5252932.175  58.965987       52.529322  \n",
       "8754           5212162.345  59.907754       52.121623  \n",
       "8755           5377797.353  61.348457       53.777974  \n",
       "8756           5262145.074  62.470930       52.621451  \n",
       "8757           4714628.032  60.158910       47.146280  \n",
       "8758           5032212.819  63.635824       50.322128  \n",
       "8759                   NaN  64.702978             NaN  "
      ]
     },
     "execution_count": 85,
     "metadata": {},
     "output_type": "execute_result"
    }
   ],
   "source": [
    "freedom_df.insert(\n",
    "    5,\"GDP_1e3\",freedom_df[\"GDP_Per_Capita\"].div(1000))\n",
    "freedom_df.insert(\n",
    "    6,\"Greenhouse_1e5\",freedom_df[\"Greenhouse_Emissions\"].div(100000))\n",
    "freedom_df"
   ]
  },
  {
   "cell_type": "code",
   "execution_count": 86,
   "id": "ac72acac-7eee-48e7-8e96-93c1f67927aa",
   "metadata": {},
   "outputs": [
    {
     "data": {
      "image/png": "[encoded data removed]",
      "text/plain": [
       "<Figure size 640x480 with 1 Axes>"
      ]
     },
     "metadata": {},
     "output_type": "display_data"
    }
   ],
   "source": [
    "plt.plot(\n",
    "    \"Year\",\"GDP_1e3\",data=freedom_df,\n",
    "    color=\"olive\",\n",
    "    label=\"GDP_Per_Capita 1e3\"\n",
    "    )\n",
    "plt.plot(\n",
    "    \"Year\",\"Greenhouse_1e5\",data=freedom_df,\n",
    "    color=\"darkred\",\n",
    "    label=\"Greenhouse_Emissions 1e5\"\n",
    "    )\n",
    "plt.plot(\n",
    "    \"Year\",\"Inter_Users_Pct\",data=freedom_df,\n",
    "    color=\"blue\",\n",
    "    label=\"Internet Users %\"\n",
    ")\n",
    "plt.legend()\n",
    "plt.show()"
   ]
  }
 ],
 "metadata": {
  "kernelspec": {
   "display_name": "Python 3 (ipykernel)",
   "language": "python",
   "name": "python3"
  },
  "language_info": {
   "codemirror_mode": {
    "name": "ipython",
    "version": 3
   },
   "file_extension": ".py",
   "mimetype": "text/x-python",
   "name": "python",
   "nbconvert_exporter": "python",
   "pygments_lexer": "ipython3",
   "version": "3.12.7"
  }
 },
 "nbformat": 4,
 "nbformat_minor": 5
}
